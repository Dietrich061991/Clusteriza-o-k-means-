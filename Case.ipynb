{
  "nbformat": 4,
  "nbformat_minor": 0,
  "metadata": {
    "colab": {
      "name": "Case.ipynb",
      "provenance": [],
      "collapsed_sections": []
    },
    "kernelspec": {
      "name": "python3",
      "display_name": "Python 3"
    },
    "language_info": {
      "name": "python"
    }
  },
  "cells": [
    {
      "cell_type": "code",
      "metadata": {
        "id": "ra2rz4zdmGEC",
        "colab": {
          "base_uri": "https://localhost:8080/"
        },
        "outputId": "efde0db2-3dcf-43fe-8437-08fe795997f3"
      },
      "source": [
        "!pip install unidecode"
      ],
      "execution_count": 1,
      "outputs": [
        {
          "output_type": "stream",
          "text": [
            "Collecting unidecode\n",
            "\u001b[?25l  Downloading https://files.pythonhosted.org/packages/9e/25/723487ca2a52ebcee88a34d7d1f5a4b80b793f179ee0f62d5371938dfa01/Unidecode-1.2.0-py2.py3-none-any.whl (241kB)\n",
            "\r\u001b[K     |█▍                              | 10kB 16.8MB/s eta 0:00:01\r\u001b[K     |██▊                             | 20kB 14.5MB/s eta 0:00:01\r\u001b[K     |████                            | 30kB 10.4MB/s eta 0:00:01\r\u001b[K     |█████▍                          | 40kB 9.1MB/s eta 0:00:01\r\u001b[K     |██████▉                         | 51kB 5.4MB/s eta 0:00:01\r\u001b[K     |████████▏                       | 61kB 5.9MB/s eta 0:00:01\r\u001b[K     |█████████▌                      | 71kB 6.3MB/s eta 0:00:01\r\u001b[K     |██████████▉                     | 81kB 6.7MB/s eta 0:00:01\r\u001b[K     |████████████▏                   | 92kB 6.7MB/s eta 0:00:01\r\u001b[K     |█████████████▋                  | 102kB 6.8MB/s eta 0:00:01\r\u001b[K     |███████████████                 | 112kB 6.8MB/s eta 0:00:01\r\u001b[K     |████████████████▎               | 122kB 6.8MB/s eta 0:00:01\r\u001b[K     |█████████████████▋              | 133kB 6.8MB/s eta 0:00:01\r\u001b[K     |███████████████████             | 143kB 6.8MB/s eta 0:00:01\r\u001b[K     |████████████████████▍           | 153kB 6.8MB/s eta 0:00:01\r\u001b[K     |█████████████████████▊          | 163kB 6.8MB/s eta 0:00:01\r\u001b[K     |███████████████████████         | 174kB 6.8MB/s eta 0:00:01\r\u001b[K     |████████████████████████▍       | 184kB 6.8MB/s eta 0:00:01\r\u001b[K     |█████████████████████████▊      | 194kB 6.8MB/s eta 0:00:01\r\u001b[K     |███████████████████████████▏    | 204kB 6.8MB/s eta 0:00:01\r\u001b[K     |████████████████████████████▌   | 215kB 6.8MB/s eta 0:00:01\r\u001b[K     |█████████████████████████████▉  | 225kB 6.8MB/s eta 0:00:01\r\u001b[K     |███████████████████████████████▏| 235kB 6.8MB/s eta 0:00:01\r\u001b[K     |████████████████████████████████| 245kB 6.8MB/s \n",
            "\u001b[?25hInstalling collected packages: unidecode\n",
            "Successfully installed unidecode-1.2.0\n"
          ],
          "name": "stdout"
        }
      ]
    },
    {
      "cell_type": "code",
      "metadata": {
        "id": "exsEK3S53Lkk"
      },
      "source": [
        "import pandas as pd\n",
        "import numpy as np\n",
        "from unidecode import unidecode\n",
        "from sklearn.preprocessing import StandardScaler, MinMaxScaler\n",
        "from sklearn.cluster import KMeans\n",
        "import matplotlib.pyplot as plt\n",
        "from sklearn.decomposition import PCA\n",
        "from sklearn.manifold import TSNE\n",
        "import seaborn as sns\n",
        "from sklearn.cluster import AgglomerativeClustering\n",
        "\n"
      ],
      "execution_count": 2,
      "outputs": []
    },
    {
      "cell_type": "code",
      "metadata": {
        "id": "fQ0iUQViqxnB"
      },
      "source": [
        "pd.set_option('display.max_columns', None)\n",
        "pd.set_option('display.max_rows',None)"
      ],
      "execution_count": 3,
      "outputs": []
    },
    {
      "cell_type": "code",
      "metadata": {
        "id": "umBno0bf3PIB"
      },
      "source": [
        "df_Informacao_Municipais = pd.read_excel(\"/content/sample_data/Case - Data Science IBOPE.XLS\", sheet_name= \"Informações_Municipais\", skiprows= 3)"
      ],
      "execution_count": 4,
      "outputs": []
    },
    {
      "cell_type": "code",
      "metadata": {
        "colab": {
          "base_uri": "https://localhost:8080/",
          "height": 391
        },
        "id": "2n_SPe9_4ZKz",
        "outputId": "43b425ca-d6eb-4b99-bc69-ef984441c683"
      },
      "source": [
        "df_Informacao_Municipais.head(3)"
      ],
      "execution_count": 5,
      "outputs": [
        {
          "output_type": "execute_result",
          "data": {
            "text/html": [
              "<div>\n",
              "<style scoped>\n",
              "    .dataframe tbody tr th:only-of-type {\n",
              "        vertical-align: middle;\n",
              "    }\n",
              "\n",
              "    .dataframe tbody tr th {\n",
              "        vertical-align: top;\n",
              "    }\n",
              "\n",
              "    .dataframe thead th {\n",
              "        text-align: right;\n",
              "    }\n",
              "</style>\n",
              "<table border=\"1\" class=\"dataframe\">\n",
              "  <thead>\n",
              "    <tr style=\"text-align: right;\">\n",
              "      <th></th>\n",
              "      <th>Código</th>\n",
              "      <th>Município</th>\n",
              "      <th>Área (km²)</th>\n",
              "      <th>Densidade demográfica, 2000</th>\n",
              "      <th>Distância à capital (km)</th>\n",
              "      <th>Esperança de vida ao nascer, 2000</th>\n",
              "      <th>Mortalidade até um ano de idade, 2000</th>\n",
              "      <th>Taxa de fecundidade total, 2000</th>\n",
              "      <th>Percentual de pessoas de 25 anos ou mais analfabetas, 2000</th>\n",
              "      <th>Renda per Capita, 2000</th>\n",
              "      <th>Índice de Gini, 2000</th>\n",
              "      <th>Intensidade da indigência, 2000</th>\n",
              "      <th>Intensidade da pobreza, 2000</th>\n",
              "      <th>Índice de Desenvolvimento Humano Municipal, 2000</th>\n",
              "      <th>Taxa bruta de freqüência à escola, 2000</th>\n",
              "      <th>Taxa de alfabetização, 2000</th>\n",
              "      <th>Média de anos de estudo das pessoas de 25 anos ou mais de idade, 2000</th>\n",
              "      <th>População de 25 anos ou mais de idade, 1991</th>\n",
              "      <th>População de 25 anos ou mais de idade, 2000</th>\n",
              "      <th>População de 65 anos ou mais de idade, 1991</th>\n",
              "      <th>População de 65 anos ou mais de idade, 2000</th>\n",
              "      <th>População total, 1991</th>\n",
              "      <th>População total, 2000</th>\n",
              "      <th>População urbana, 2000</th>\n",
              "      <th>População rural, 2000</th>\n",
              "    </tr>\n",
              "  </thead>\n",
              "  <tbody>\n",
              "    <tr>\n",
              "      <th>0</th>\n",
              "      <td>520005</td>\n",
              "      <td>Abadia de Goiás (GO)</td>\n",
              "      <td>136.9</td>\n",
              "      <td>36.3</td>\n",
              "      <td>21.414308</td>\n",
              "      <td>67.58</td>\n",
              "      <td>27.70</td>\n",
              "      <td>2.85</td>\n",
              "      <td>15.64</td>\n",
              "      <td>205.27</td>\n",
              "      <td>0.53</td>\n",
              "      <td>36.89</td>\n",
              "      <td>34.40</td>\n",
              "      <td>0.742</td>\n",
              "      <td>80.17</td>\n",
              "      <td>88.03</td>\n",
              "      <td>4.87</td>\n",
              "      <td>1872</td>\n",
              "      <td>2433</td>\n",
              "      <td>121</td>\n",
              "      <td>227</td>\n",
              "      <td>4227</td>\n",
              "      <td>4971</td>\n",
              "      <td>3096</td>\n",
              "      <td>1875</td>\n",
              "    </tr>\n",
              "    <tr>\n",
              "      <th>1</th>\n",
              "      <td>310010</td>\n",
              "      <td>Abadia dos Dourados (MG)</td>\n",
              "      <td>897.4</td>\n",
              "      <td>7.2</td>\n",
              "      <td>390.876513</td>\n",
              "      <td>72.92</td>\n",
              "      <td>20.51</td>\n",
              "      <td>2.54</td>\n",
              "      <td>14.48</td>\n",
              "      <td>196.36</td>\n",
              "      <td>0.52</td>\n",
              "      <td>51.90</td>\n",
              "      <td>35.22</td>\n",
              "      <td>0.760</td>\n",
              "      <td>74.57</td>\n",
              "      <td>86.58</td>\n",
              "      <td>4.36</td>\n",
              "      <td>3308</td>\n",
              "      <td>3781</td>\n",
              "      <td>354</td>\n",
              "      <td>459</td>\n",
              "      <td>6492</td>\n",
              "      <td>6446</td>\n",
              "      <td>3927</td>\n",
              "      <td>2519</td>\n",
              "    </tr>\n",
              "    <tr>\n",
              "      <th>2</th>\n",
              "      <td>520010</td>\n",
              "      <td>Abadiânia (GO)</td>\n",
              "      <td>1047.7</td>\n",
              "      <td>10.9</td>\n",
              "      <td>78.641435</td>\n",
              "      <td>69.59</td>\n",
              "      <td>22.36</td>\n",
              "      <td>2.77</td>\n",
              "      <td>21.81</td>\n",
              "      <td>168.31</td>\n",
              "      <td>0.56</td>\n",
              "      <td>47.06</td>\n",
              "      <td>40.32</td>\n",
              "      <td>0.723</td>\n",
              "      <td>74.18</td>\n",
              "      <td>82.45</td>\n",
              "      <td>4.24</td>\n",
              "      <td>4241</td>\n",
              "      <td>5918</td>\n",
              "      <td>446</td>\n",
              "      <td>686</td>\n",
              "      <td>9402</td>\n",
              "      <td>11452</td>\n",
              "      <td>7206</td>\n",
              "      <td>4246</td>\n",
              "    </tr>\n",
              "  </tbody>\n",
              "</table>\n",
              "</div>"
            ],
            "text/plain": [
              "   Código                 Município  Área (km²)  Densidade demográfica, 2000  \\\n",
              "0  520005      Abadia de Goiás (GO)       136.9                         36.3   \n",
              "1  310010  Abadia dos Dourados (MG)       897.4                          7.2   \n",
              "2  520010            Abadiânia (GO)      1047.7                         10.9   \n",
              "\n",
              "   Distância à capital (km)  Esperança de vida ao nascer, 2000  \\\n",
              "0                 21.414308                              67.58   \n",
              "1                390.876513                              72.92   \n",
              "2                 78.641435                              69.59   \n",
              "\n",
              "   Mortalidade até um ano de idade, 2000  Taxa de fecundidade total, 2000  \\\n",
              "0                                  27.70                             2.85   \n",
              "1                                  20.51                             2.54   \n",
              "2                                  22.36                             2.77   \n",
              "\n",
              "   Percentual de pessoas de 25 anos ou mais analfabetas, 2000  \\\n",
              "0                                              15.64            \n",
              "1                                              14.48            \n",
              "2                                              21.81            \n",
              "\n",
              "   Renda per Capita, 2000  Índice de Gini, 2000  \\\n",
              "0                  205.27                  0.53   \n",
              "1                  196.36                  0.52   \n",
              "2                  168.31                  0.56   \n",
              "\n",
              "   Intensidade da indigência, 2000  Intensidade da pobreza, 2000  \\\n",
              "0                            36.89                         34.40   \n",
              "1                            51.90                         35.22   \n",
              "2                            47.06                         40.32   \n",
              "\n",
              "   Índice de Desenvolvimento Humano Municipal, 2000  \\\n",
              "0                                             0.742   \n",
              "1                                             0.760   \n",
              "2                                             0.723   \n",
              "\n",
              "   Taxa bruta de freqüência à escola, 2000  Taxa de alfabetização, 2000  \\\n",
              "0                                    80.17                        88.03   \n",
              "1                                    74.57                        86.58   \n",
              "2                                    74.18                        82.45   \n",
              "\n",
              "   Média de anos de estudo das pessoas de 25 anos ou mais de idade, 2000  \\\n",
              "0                                               4.87                       \n",
              "1                                               4.36                       \n",
              "2                                               4.24                       \n",
              "\n",
              "   População de 25 anos ou mais de idade, 1991  \\\n",
              "0                                         1872   \n",
              "1                                         3308   \n",
              "2                                         4241   \n",
              "\n",
              "   População de 25 anos ou mais de idade, 2000  \\\n",
              "0                                         2433   \n",
              "1                                         3781   \n",
              "2                                         5918   \n",
              "\n",
              "   População de 65 anos ou mais de idade, 1991  \\\n",
              "0                                          121   \n",
              "1                                          354   \n",
              "2                                          446   \n",
              "\n",
              "   População de 65 anos ou mais de idade, 2000  População total, 1991  \\\n",
              "0                                          227                   4227   \n",
              "1                                          459                   6492   \n",
              "2                                          686                   9402   \n",
              "\n",
              "   População total, 2000  População urbana, 2000  População rural, 2000  \n",
              "0                   4971                    3096                   1875  \n",
              "1                   6446                    3927                   2519  \n",
              "2                  11452                    7206                   4246  "
            ]
          },
          "metadata": {
            "tags": []
          },
          "execution_count": 5
        }
      ]
    },
    {
      "cell_type": "code",
      "metadata": {
        "id": "lSe8k4mMlx4Y"
      },
      "source": [
        "#3 tratamento colunas \n",
        "df_Informacao_Municipais.columns = [col.replace(\",\", \"\") for col in df_Informacao_Municipais.columns]\n",
        "df_Informacao_Municipais.columns = [col.replace(\" \", \"_\") for col in df_Informacao_Municipais.columns]\n",
        "df_Informacao_Municipais.columns = [col.replace(\"(\", \"\") for col in df_Informacao_Municipais.columns]\n",
        "df_Informacao_Municipais.columns = [col.replace(\")\", \"\") for col in df_Informacao_Municipais.columns]\n",
        "\n",
        "coluna_nova = []\n",
        "lista_colunas = df_Informacao_Municipais.columns.tolist()\n",
        "for lista_coluna in lista_colunas:\n",
        "  coluna_nova.append(unidecode(lista_coluna))\n",
        "df_Informacao_Municipais.columns = coluna_nova\n"
      ],
      "execution_count": 6,
      "outputs": []
    },
    {
      "cell_type": "code",
      "metadata": {
        "id": "YU4bGbAT8YbM"
      },
      "source": [
        "#create column estado\n",
        "lista = df_Informacao_Municipais[\"Municipio\"].tolist()\n",
        "lista_estado = []\n",
        "for x in lista:\n",
        "  lista_estado.append(x[-3:-1])\n",
        "lista_estado \n",
        "df_Informacao_Municipais[\"Estado\"] = lista_estado"
      ],
      "execution_count": 7,
      "outputs": []
    },
    {
      "cell_type": "code",
      "metadata": {
        "colab": {
          "base_uri": "https://localhost:8080/",
          "height": 223
        },
        "id": "-bK_EHi5BiOt",
        "outputId": "67da3188-31ee-4a6e-b5e1-981f12849fe0"
      },
      "source": [
        "df_Informacao_Municipais.head(3)"
      ],
      "execution_count": 8,
      "outputs": [
        {
          "output_type": "execute_result",
          "data": {
            "text/html": [
              "<div>\n",
              "<style scoped>\n",
              "    .dataframe tbody tr th:only-of-type {\n",
              "        vertical-align: middle;\n",
              "    }\n",
              "\n",
              "    .dataframe tbody tr th {\n",
              "        vertical-align: top;\n",
              "    }\n",
              "\n",
              "    .dataframe thead th {\n",
              "        text-align: right;\n",
              "    }\n",
              "</style>\n",
              "<table border=\"1\" class=\"dataframe\">\n",
              "  <thead>\n",
              "    <tr style=\"text-align: right;\">\n",
              "      <th></th>\n",
              "      <th>Codigo</th>\n",
              "      <th>Municipio</th>\n",
              "      <th>Area_km2</th>\n",
              "      <th>Densidade_demografica_2000</th>\n",
              "      <th>Distancia_a_capital_km</th>\n",
              "      <th>Esperanca_de_vida_ao_nascer_2000</th>\n",
              "      <th>Mortalidade_ate_um_ano_de_idade_2000</th>\n",
              "      <th>Taxa_de_fecundidade_total_2000</th>\n",
              "      <th>Percentual_de_pessoas_de_25_anos_ou_mais_analfabetas_2000</th>\n",
              "      <th>Renda_per_Capita_2000</th>\n",
              "      <th>Indice_de_Gini_2000</th>\n",
              "      <th>Intensidade_da_indigencia_2000</th>\n",
              "      <th>Intensidade_da_pobreza_2000</th>\n",
              "      <th>Indice_de_Desenvolvimento_Humano_Municipal_2000</th>\n",
              "      <th>Taxa_bruta_de_frequencia_a_escola_2000</th>\n",
              "      <th>Taxa_de_alfabetizacao_2000</th>\n",
              "      <th>Media_de_anos_de_estudo_das_pessoas_de_25_anos_ou_mais_de_idade_2000</th>\n",
              "      <th>Populacao_de_25_anos_ou_mais_de_idade_1991</th>\n",
              "      <th>Populacao_de_25_anos_ou_mais_de_idade_2000</th>\n",
              "      <th>Populacao_de_65_anos_ou_mais_de_idade_1991</th>\n",
              "      <th>Populacao_de_65_anos_ou_mais_de_idade_2000</th>\n",
              "      <th>Populacao_total_1991</th>\n",
              "      <th>Populacao_total_2000</th>\n",
              "      <th>Populacao_urbana_2000</th>\n",
              "      <th>Populacao_rural_2000</th>\n",
              "      <th>Estado</th>\n",
              "    </tr>\n",
              "  </thead>\n",
              "  <tbody>\n",
              "    <tr>\n",
              "      <th>0</th>\n",
              "      <td>520005</td>\n",
              "      <td>Abadia de Goiás (GO)</td>\n",
              "      <td>136.9</td>\n",
              "      <td>36.3</td>\n",
              "      <td>21.414308</td>\n",
              "      <td>67.58</td>\n",
              "      <td>27.70</td>\n",
              "      <td>2.85</td>\n",
              "      <td>15.64</td>\n",
              "      <td>205.27</td>\n",
              "      <td>0.53</td>\n",
              "      <td>36.89</td>\n",
              "      <td>34.40</td>\n",
              "      <td>0.742</td>\n",
              "      <td>80.17</td>\n",
              "      <td>88.03</td>\n",
              "      <td>4.87</td>\n",
              "      <td>1872</td>\n",
              "      <td>2433</td>\n",
              "      <td>121</td>\n",
              "      <td>227</td>\n",
              "      <td>4227</td>\n",
              "      <td>4971</td>\n",
              "      <td>3096</td>\n",
              "      <td>1875</td>\n",
              "      <td>GO</td>\n",
              "    </tr>\n",
              "    <tr>\n",
              "      <th>1</th>\n",
              "      <td>310010</td>\n",
              "      <td>Abadia dos Dourados (MG)</td>\n",
              "      <td>897.4</td>\n",
              "      <td>7.2</td>\n",
              "      <td>390.876513</td>\n",
              "      <td>72.92</td>\n",
              "      <td>20.51</td>\n",
              "      <td>2.54</td>\n",
              "      <td>14.48</td>\n",
              "      <td>196.36</td>\n",
              "      <td>0.52</td>\n",
              "      <td>51.90</td>\n",
              "      <td>35.22</td>\n",
              "      <td>0.760</td>\n",
              "      <td>74.57</td>\n",
              "      <td>86.58</td>\n",
              "      <td>4.36</td>\n",
              "      <td>3308</td>\n",
              "      <td>3781</td>\n",
              "      <td>354</td>\n",
              "      <td>459</td>\n",
              "      <td>6492</td>\n",
              "      <td>6446</td>\n",
              "      <td>3927</td>\n",
              "      <td>2519</td>\n",
              "      <td>MG</td>\n",
              "    </tr>\n",
              "    <tr>\n",
              "      <th>2</th>\n",
              "      <td>520010</td>\n",
              "      <td>Abadiânia (GO)</td>\n",
              "      <td>1047.7</td>\n",
              "      <td>10.9</td>\n",
              "      <td>78.641435</td>\n",
              "      <td>69.59</td>\n",
              "      <td>22.36</td>\n",
              "      <td>2.77</td>\n",
              "      <td>21.81</td>\n",
              "      <td>168.31</td>\n",
              "      <td>0.56</td>\n",
              "      <td>47.06</td>\n",
              "      <td>40.32</td>\n",
              "      <td>0.723</td>\n",
              "      <td>74.18</td>\n",
              "      <td>82.45</td>\n",
              "      <td>4.24</td>\n",
              "      <td>4241</td>\n",
              "      <td>5918</td>\n",
              "      <td>446</td>\n",
              "      <td>686</td>\n",
              "      <td>9402</td>\n",
              "      <td>11452</td>\n",
              "      <td>7206</td>\n",
              "      <td>4246</td>\n",
              "      <td>GO</td>\n",
              "    </tr>\n",
              "  </tbody>\n",
              "</table>\n",
              "</div>"
            ],
            "text/plain": [
              "   Codigo                 Municipio  Area_km2  Densidade_demografica_2000  \\\n",
              "0  520005      Abadia de Goiás (GO)     136.9                        36.3   \n",
              "1  310010  Abadia dos Dourados (MG)     897.4                         7.2   \n",
              "2  520010            Abadiânia (GO)    1047.7                        10.9   \n",
              "\n",
              "   Distancia_a_capital_km  Esperanca_de_vida_ao_nascer_2000  \\\n",
              "0               21.414308                             67.58   \n",
              "1              390.876513                             72.92   \n",
              "2               78.641435                             69.59   \n",
              "\n",
              "   Mortalidade_ate_um_ano_de_idade_2000  Taxa_de_fecundidade_total_2000  \\\n",
              "0                                 27.70                            2.85   \n",
              "1                                 20.51                            2.54   \n",
              "2                                 22.36                            2.77   \n",
              "\n",
              "   Percentual_de_pessoas_de_25_anos_ou_mais_analfabetas_2000  \\\n",
              "0                                              15.64           \n",
              "1                                              14.48           \n",
              "2                                              21.81           \n",
              "\n",
              "   Renda_per_Capita_2000  Indice_de_Gini_2000  Intensidade_da_indigencia_2000  \\\n",
              "0                 205.27                 0.53                           36.89   \n",
              "1                 196.36                 0.52                           51.90   \n",
              "2                 168.31                 0.56                           47.06   \n",
              "\n",
              "   Intensidade_da_pobreza_2000  \\\n",
              "0                        34.40   \n",
              "1                        35.22   \n",
              "2                        40.32   \n",
              "\n",
              "   Indice_de_Desenvolvimento_Humano_Municipal_2000  \\\n",
              "0                                            0.742   \n",
              "1                                            0.760   \n",
              "2                                            0.723   \n",
              "\n",
              "   Taxa_bruta_de_frequencia_a_escola_2000  Taxa_de_alfabetizacao_2000  \\\n",
              "0                                   80.17                       88.03   \n",
              "1                                   74.57                       86.58   \n",
              "2                                   74.18                       82.45   \n",
              "\n",
              "   Media_de_anos_de_estudo_das_pessoas_de_25_anos_ou_mais_de_idade_2000  \\\n",
              "0                                               4.87                      \n",
              "1                                               4.36                      \n",
              "2                                               4.24                      \n",
              "\n",
              "   Populacao_de_25_anos_ou_mais_de_idade_1991  \\\n",
              "0                                        1872   \n",
              "1                                        3308   \n",
              "2                                        4241   \n",
              "\n",
              "   Populacao_de_25_anos_ou_mais_de_idade_2000  \\\n",
              "0                                        2433   \n",
              "1                                        3781   \n",
              "2                                        5918   \n",
              "\n",
              "   Populacao_de_65_anos_ou_mais_de_idade_1991  \\\n",
              "0                                         121   \n",
              "1                                         354   \n",
              "2                                         446   \n",
              "\n",
              "   Populacao_de_65_anos_ou_mais_de_idade_2000  Populacao_total_1991  \\\n",
              "0                                         227                  4227   \n",
              "1                                         459                  6492   \n",
              "2                                         686                  9402   \n",
              "\n",
              "   Populacao_total_2000  Populacao_urbana_2000  Populacao_rural_2000 Estado  \n",
              "0                  4971                   3096                  1875     GO  \n",
              "1                  6446                   3927                  2519     MG  \n",
              "2                 11452                   7206                  4246     GO  "
            ]
          },
          "metadata": {
            "tags": []
          },
          "execution_count": 8
        }
      ]
    },
    {
      "cell_type": "code",
      "metadata": {
        "colab": {
          "base_uri": "https://localhost:8080/"
        },
        "id": "L2wa7JY3K9aN",
        "outputId": "d9484517-f5df-464e-8356-35cd862723b6"
      },
      "source": [
        "#quantidade nan\n",
        "df_Informacao_Municipais.isna().sum().sum()"
      ],
      "execution_count": 9,
      "outputs": [
        {
          "output_type": "execute_result",
          "data": {
            "text/plain": [
              "0"
            ]
          },
          "metadata": {
            "tags": []
          },
          "execution_count": 9
        }
      ]
    },
    {
      "cell_type": "code",
      "metadata": {
        "colab": {
          "base_uri": "https://localhost:8080/"
        },
        "id": "YjWqmhdEPOP7",
        "outputId": "64193762-3250-4c2b-f98c-c46ef883a800"
      },
      "source": [
        "df_Informacao_Municipais.duplicated(subset = [\"Codigo\"]).any()"
      ],
      "execution_count": 10,
      "outputs": [
        {
          "output_type": "execute_result",
          "data": {
            "text/plain": [
              "False"
            ]
          },
          "metadata": {
            "tags": []
          },
          "execution_count": 10
        }
      ]
    },
    {
      "cell_type": "code",
      "metadata": {
        "id": "OZOfFHWsOUQu"
      },
      "source": [
        "## resolvendo duplicados \n",
        "codigo_duplicados = df_Informacao_Municipais.duplicated(subset=['Codigo'])\n",
        "if codigo_duplicados.any():\n",
        "  print(codigo_duplicados.loc[~codigo_duplicados])"
      ],
      "execution_count": 11,
      "outputs": []
    },
    {
      "cell_type": "code",
      "metadata": {
        "id": "ZGmvJU6MRxJ-"
      },
      "source": [
        "df_Informacao_Municipais['razao_urbana_total_2000']= df_Informacao_Municipais.Populacao_urbana_2000/df_Informacao_Municipais.Populacao_total_2000\n",
        "df_Informacao_Municipais['crescimento_populacao_total_1991_2000'] = (df_Informacao_Municipais.Populacao_total_2000 - df_Informacao_Municipais.Populacao_total_1991 )/df_Informacao_Municipais.Populacao_total_1991\n",
        "df_Informacao_Municipais['crescimento_25_mais_1991_2000'] = (df_Informacao_Municipais.Populacao_de_25_anos_ou_mais_de_idade_2000 - df_Informacao_Municipais.Populacao_de_25_anos_ou_mais_de_idade_1991 )/df_Informacao_Municipais.Populacao_de_25_anos_ou_mais_de_idade_1991\n",
        "df_Informacao_Municipais['crescimento_65_mais_1991_2000'] = (df_Informacao_Municipais.Populacao_de_65_anos_ou_mais_de_idade_2000 - df_Informacao_Municipais.Populacao_de_65_anos_ou_mais_de_idade_1991 )/df_Informacao_Municipais.Populacao_de_65_anos_ou_mais_de_idade_1991\n"
      ],
      "execution_count": 12,
      "outputs": []
    },
    {
      "cell_type": "code",
      "metadata": {
        "id": "3yVy3n-6EbwR"
      },
      "source": [
        "## esta base df é a base com colunas padronizadas mas não será usada na etapa 1.\n",
        "df= df_Informacao_Municipais.copy()"
      ],
      "execution_count": 13,
      "outputs": []
    },
    {
      "cell_type": "code",
      "metadata": {
        "colab": {
          "base_uri": "https://localhost:8080/",
          "height": 223
        },
        "id": "ZP5LRoZ89PxS",
        "outputId": "244ff31c-60c1-41a0-ecc2-e7eb832e9508"
      },
      "source": [
        "df.head(3)"
      ],
      "execution_count": 14,
      "outputs": [
        {
          "output_type": "execute_result",
          "data": {
            "text/html": [
              "<div>\n",
              "<style scoped>\n",
              "    .dataframe tbody tr th:only-of-type {\n",
              "        vertical-align: middle;\n",
              "    }\n",
              "\n",
              "    .dataframe tbody tr th {\n",
              "        vertical-align: top;\n",
              "    }\n",
              "\n",
              "    .dataframe thead th {\n",
              "        text-align: right;\n",
              "    }\n",
              "</style>\n",
              "<table border=\"1\" class=\"dataframe\">\n",
              "  <thead>\n",
              "    <tr style=\"text-align: right;\">\n",
              "      <th></th>\n",
              "      <th>Codigo</th>\n",
              "      <th>Municipio</th>\n",
              "      <th>Area_km2</th>\n",
              "      <th>Densidade_demografica_2000</th>\n",
              "      <th>Distancia_a_capital_km</th>\n",
              "      <th>Esperanca_de_vida_ao_nascer_2000</th>\n",
              "      <th>Mortalidade_ate_um_ano_de_idade_2000</th>\n",
              "      <th>Taxa_de_fecundidade_total_2000</th>\n",
              "      <th>Percentual_de_pessoas_de_25_anos_ou_mais_analfabetas_2000</th>\n",
              "      <th>Renda_per_Capita_2000</th>\n",
              "      <th>Indice_de_Gini_2000</th>\n",
              "      <th>Intensidade_da_indigencia_2000</th>\n",
              "      <th>Intensidade_da_pobreza_2000</th>\n",
              "      <th>Indice_de_Desenvolvimento_Humano_Municipal_2000</th>\n",
              "      <th>Taxa_bruta_de_frequencia_a_escola_2000</th>\n",
              "      <th>Taxa_de_alfabetizacao_2000</th>\n",
              "      <th>Media_de_anos_de_estudo_das_pessoas_de_25_anos_ou_mais_de_idade_2000</th>\n",
              "      <th>Populacao_de_25_anos_ou_mais_de_idade_1991</th>\n",
              "      <th>Populacao_de_25_anos_ou_mais_de_idade_2000</th>\n",
              "      <th>Populacao_de_65_anos_ou_mais_de_idade_1991</th>\n",
              "      <th>Populacao_de_65_anos_ou_mais_de_idade_2000</th>\n",
              "      <th>Populacao_total_1991</th>\n",
              "      <th>Populacao_total_2000</th>\n",
              "      <th>Populacao_urbana_2000</th>\n",
              "      <th>Populacao_rural_2000</th>\n",
              "      <th>Estado</th>\n",
              "      <th>razao_urbana_total_2000</th>\n",
              "      <th>crescimento_populacao_total_1991_2000</th>\n",
              "      <th>crescimento_25_mais_1991_2000</th>\n",
              "      <th>crescimento_65_mais_1991_2000</th>\n",
              "    </tr>\n",
              "  </thead>\n",
              "  <tbody>\n",
              "    <tr>\n",
              "      <th>0</th>\n",
              "      <td>520005</td>\n",
              "      <td>Abadia de Goiás (GO)</td>\n",
              "      <td>136.9</td>\n",
              "      <td>36.3</td>\n",
              "      <td>21.414308</td>\n",
              "      <td>67.58</td>\n",
              "      <td>27.70</td>\n",
              "      <td>2.85</td>\n",
              "      <td>15.64</td>\n",
              "      <td>205.27</td>\n",
              "      <td>0.53</td>\n",
              "      <td>36.89</td>\n",
              "      <td>34.40</td>\n",
              "      <td>0.742</td>\n",
              "      <td>80.17</td>\n",
              "      <td>88.03</td>\n",
              "      <td>4.87</td>\n",
              "      <td>1872</td>\n",
              "      <td>2433</td>\n",
              "      <td>121</td>\n",
              "      <td>227</td>\n",
              "      <td>4227</td>\n",
              "      <td>4971</td>\n",
              "      <td>3096</td>\n",
              "      <td>1875</td>\n",
              "      <td>GO</td>\n",
              "      <td>0.622812</td>\n",
              "      <td>0.176011</td>\n",
              "      <td>0.299679</td>\n",
              "      <td>0.876033</td>\n",
              "    </tr>\n",
              "    <tr>\n",
              "      <th>1</th>\n",
              "      <td>310010</td>\n",
              "      <td>Abadia dos Dourados (MG)</td>\n",
              "      <td>897.4</td>\n",
              "      <td>7.2</td>\n",
              "      <td>390.876513</td>\n",
              "      <td>72.92</td>\n",
              "      <td>20.51</td>\n",
              "      <td>2.54</td>\n",
              "      <td>14.48</td>\n",
              "      <td>196.36</td>\n",
              "      <td>0.52</td>\n",
              "      <td>51.90</td>\n",
              "      <td>35.22</td>\n",
              "      <td>0.760</td>\n",
              "      <td>74.57</td>\n",
              "      <td>86.58</td>\n",
              "      <td>4.36</td>\n",
              "      <td>3308</td>\n",
              "      <td>3781</td>\n",
              "      <td>354</td>\n",
              "      <td>459</td>\n",
              "      <td>6492</td>\n",
              "      <td>6446</td>\n",
              "      <td>3927</td>\n",
              "      <td>2519</td>\n",
              "      <td>MG</td>\n",
              "      <td>0.609215</td>\n",
              "      <td>-0.007086</td>\n",
              "      <td>0.142987</td>\n",
              "      <td>0.296610</td>\n",
              "    </tr>\n",
              "    <tr>\n",
              "      <th>2</th>\n",
              "      <td>520010</td>\n",
              "      <td>Abadiânia (GO)</td>\n",
              "      <td>1047.7</td>\n",
              "      <td>10.9</td>\n",
              "      <td>78.641435</td>\n",
              "      <td>69.59</td>\n",
              "      <td>22.36</td>\n",
              "      <td>2.77</td>\n",
              "      <td>21.81</td>\n",
              "      <td>168.31</td>\n",
              "      <td>0.56</td>\n",
              "      <td>47.06</td>\n",
              "      <td>40.32</td>\n",
              "      <td>0.723</td>\n",
              "      <td>74.18</td>\n",
              "      <td>82.45</td>\n",
              "      <td>4.24</td>\n",
              "      <td>4241</td>\n",
              "      <td>5918</td>\n",
              "      <td>446</td>\n",
              "      <td>686</td>\n",
              "      <td>9402</td>\n",
              "      <td>11452</td>\n",
              "      <td>7206</td>\n",
              "      <td>4246</td>\n",
              "      <td>GO</td>\n",
              "      <td>0.629235</td>\n",
              "      <td>0.218039</td>\n",
              "      <td>0.395426</td>\n",
              "      <td>0.538117</td>\n",
              "    </tr>\n",
              "  </tbody>\n",
              "</table>\n",
              "</div>"
            ],
            "text/plain": [
              "   Codigo                 Municipio  Area_km2  Densidade_demografica_2000  \\\n",
              "0  520005      Abadia de Goiás (GO)     136.9                        36.3   \n",
              "1  310010  Abadia dos Dourados (MG)     897.4                         7.2   \n",
              "2  520010            Abadiânia (GO)    1047.7                        10.9   \n",
              "\n",
              "   Distancia_a_capital_km  Esperanca_de_vida_ao_nascer_2000  \\\n",
              "0               21.414308                             67.58   \n",
              "1              390.876513                             72.92   \n",
              "2               78.641435                             69.59   \n",
              "\n",
              "   Mortalidade_ate_um_ano_de_idade_2000  Taxa_de_fecundidade_total_2000  \\\n",
              "0                                 27.70                            2.85   \n",
              "1                                 20.51                            2.54   \n",
              "2                                 22.36                            2.77   \n",
              "\n",
              "   Percentual_de_pessoas_de_25_anos_ou_mais_analfabetas_2000  \\\n",
              "0                                              15.64           \n",
              "1                                              14.48           \n",
              "2                                              21.81           \n",
              "\n",
              "   Renda_per_Capita_2000  Indice_de_Gini_2000  Intensidade_da_indigencia_2000  \\\n",
              "0                 205.27                 0.53                           36.89   \n",
              "1                 196.36                 0.52                           51.90   \n",
              "2                 168.31                 0.56                           47.06   \n",
              "\n",
              "   Intensidade_da_pobreza_2000  \\\n",
              "0                        34.40   \n",
              "1                        35.22   \n",
              "2                        40.32   \n",
              "\n",
              "   Indice_de_Desenvolvimento_Humano_Municipal_2000  \\\n",
              "0                                            0.742   \n",
              "1                                            0.760   \n",
              "2                                            0.723   \n",
              "\n",
              "   Taxa_bruta_de_frequencia_a_escola_2000  Taxa_de_alfabetizacao_2000  \\\n",
              "0                                   80.17                       88.03   \n",
              "1                                   74.57                       86.58   \n",
              "2                                   74.18                       82.45   \n",
              "\n",
              "   Media_de_anos_de_estudo_das_pessoas_de_25_anos_ou_mais_de_idade_2000  \\\n",
              "0                                               4.87                      \n",
              "1                                               4.36                      \n",
              "2                                               4.24                      \n",
              "\n",
              "   Populacao_de_25_anos_ou_mais_de_idade_1991  \\\n",
              "0                                        1872   \n",
              "1                                        3308   \n",
              "2                                        4241   \n",
              "\n",
              "   Populacao_de_25_anos_ou_mais_de_idade_2000  \\\n",
              "0                                        2433   \n",
              "1                                        3781   \n",
              "2                                        5918   \n",
              "\n",
              "   Populacao_de_65_anos_ou_mais_de_idade_1991  \\\n",
              "0                                         121   \n",
              "1                                         354   \n",
              "2                                         446   \n",
              "\n",
              "   Populacao_de_65_anos_ou_mais_de_idade_2000  Populacao_total_1991  \\\n",
              "0                                         227                  4227   \n",
              "1                                         459                  6492   \n",
              "2                                         686                  9402   \n",
              "\n",
              "   Populacao_total_2000  Populacao_urbana_2000  Populacao_rural_2000 Estado  \\\n",
              "0                  4971                   3096                  1875     GO   \n",
              "1                  6446                   3927                  2519     MG   \n",
              "2                 11452                   7206                  4246     GO   \n",
              "\n",
              "   razao_urbana_total_2000  crescimento_populacao_total_1991_2000  \\\n",
              "0                 0.622812                               0.176011   \n",
              "1                 0.609215                              -0.007086   \n",
              "2                 0.629235                               0.218039   \n",
              "\n",
              "   crescimento_25_mais_1991_2000  crescimento_65_mais_1991_2000  \n",
              "0                       0.299679                       0.876033  \n",
              "1                       0.142987                       0.296610  \n",
              "2                       0.395426                       0.538117  "
            ]
          },
          "metadata": {
            "tags": []
          },
          "execution_count": 14
        }
      ]
    },
    {
      "cell_type": "code",
      "metadata": {
        "id": "cW2E9JsP1wT2"
      },
      "source": [
        "\n",
        "vars_log = ['Area_km2',\n",
        "       'Densidade_demografica_2000', 'Mortalidade_ate_um_ano_de_idade_2000','Taxa_de_fecundidade_total_2000',\n",
        "       'Percentual_de_pessoas_de_25_anos_ou_mais_analfabetas_2000',\n",
        "       'Renda_per_Capita_2000',\n",
        "       'Media_de_anos_de_estudo_das_pessoas_de_25_anos_ou_mais_de_idade_2000',\n",
        "       'Populacao_de_25_anos_ou_mais_de_idade_1991',\n",
        "       'Populacao_de_25_anos_ou_mais_de_idade_2000',\n",
        "       'Populacao_de_65_anos_ou_mais_de_idade_1991',\n",
        "       'Populacao_de_65_anos_ou_mais_de_idade_2000', 'Populacao_total_1991',\n",
        "       'Populacao_total_2000']\n",
        "\n"
      ],
      "execution_count": 14,
      "outputs": []
    },
    {
      "cell_type": "code",
      "metadata": {
        "id": "8kXeoab9JI_3"
      },
      "source": [
        "## aplicar log nas vars \n",
        "for c in vars_log:\n",
        "  df[c]= np.log(df[c])\n",
        "\n",
        "## aplicar raiz quadrada na \n",
        "df.Distancia_a_capital_km = np.sqrt(df.Distancia_a_capital_km)"
      ],
      "execution_count": 16,
      "outputs": []
    },
    {
      "cell_type": "code",
      "metadata": {
        "colab": {
          "base_uri": "https://localhost:8080/",
          "height": 223
        },
        "id": "38XEzelA9UZH",
        "outputId": "3511d721-d80d-4392-f930-64cc508950e0"
      },
      "source": [
        "df.head(3)"
      ],
      "execution_count": 17,
      "outputs": [
        {
          "output_type": "execute_result",
          "data": {
            "text/html": [
              "<div>\n",
              "<style scoped>\n",
              "    .dataframe tbody tr th:only-of-type {\n",
              "        vertical-align: middle;\n",
              "    }\n",
              "\n",
              "    .dataframe tbody tr th {\n",
              "        vertical-align: top;\n",
              "    }\n",
              "\n",
              "    .dataframe thead th {\n",
              "        text-align: right;\n",
              "    }\n",
              "</style>\n",
              "<table border=\"1\" class=\"dataframe\">\n",
              "  <thead>\n",
              "    <tr style=\"text-align: right;\">\n",
              "      <th></th>\n",
              "      <th>Codigo</th>\n",
              "      <th>Municipio</th>\n",
              "      <th>Area_km2</th>\n",
              "      <th>Densidade_demografica_2000</th>\n",
              "      <th>Distancia_a_capital_km</th>\n",
              "      <th>Esperanca_de_vida_ao_nascer_2000</th>\n",
              "      <th>Mortalidade_ate_um_ano_de_idade_2000</th>\n",
              "      <th>Taxa_de_fecundidade_total_2000</th>\n",
              "      <th>Percentual_de_pessoas_de_25_anos_ou_mais_analfabetas_2000</th>\n",
              "      <th>Renda_per_Capita_2000</th>\n",
              "      <th>Indice_de_Gini_2000</th>\n",
              "      <th>Intensidade_da_indigencia_2000</th>\n",
              "      <th>Intensidade_da_pobreza_2000</th>\n",
              "      <th>Indice_de_Desenvolvimento_Humano_Municipal_2000</th>\n",
              "      <th>Taxa_bruta_de_frequencia_a_escola_2000</th>\n",
              "      <th>Taxa_de_alfabetizacao_2000</th>\n",
              "      <th>Media_de_anos_de_estudo_das_pessoas_de_25_anos_ou_mais_de_idade_2000</th>\n",
              "      <th>Populacao_de_25_anos_ou_mais_de_idade_1991</th>\n",
              "      <th>Populacao_de_25_anos_ou_mais_de_idade_2000</th>\n",
              "      <th>Populacao_de_65_anos_ou_mais_de_idade_1991</th>\n",
              "      <th>Populacao_de_65_anos_ou_mais_de_idade_2000</th>\n",
              "      <th>Populacao_total_1991</th>\n",
              "      <th>Populacao_total_2000</th>\n",
              "      <th>Populacao_urbana_2000</th>\n",
              "      <th>Populacao_rural_2000</th>\n",
              "      <th>Estado</th>\n",
              "      <th>razao_urbana_total_2000</th>\n",
              "      <th>crescimento_populacao_total_1991_2000</th>\n",
              "      <th>crescimento_25_mais_1991_2000</th>\n",
              "      <th>crescimento_65_mais_1991_2000</th>\n",
              "    </tr>\n",
              "  </thead>\n",
              "  <tbody>\n",
              "    <tr>\n",
              "      <th>0</th>\n",
              "      <td>520005</td>\n",
              "      <td>Abadia de Goiás (GO)</td>\n",
              "      <td>4.919251</td>\n",
              "      <td>3.591818</td>\n",
              "      <td>4.627560</td>\n",
              "      <td>67.58</td>\n",
              "      <td>3.321432</td>\n",
              "      <td>1.047319</td>\n",
              "      <td>2.749832</td>\n",
              "      <td>5.324326</td>\n",
              "      <td>0.53</td>\n",
              "      <td>36.89</td>\n",
              "      <td>34.40</td>\n",
              "      <td>0.742</td>\n",
              "      <td>80.17</td>\n",
              "      <td>88.03</td>\n",
              "      <td>1.583094</td>\n",
              "      <td>7.534763</td>\n",
              "      <td>7.796880</td>\n",
              "      <td>4.795791</td>\n",
              "      <td>5.424950</td>\n",
              "      <td>8.349248</td>\n",
              "      <td>8.511376</td>\n",
              "      <td>3096</td>\n",
              "      <td>1875</td>\n",
              "      <td>GO</td>\n",
              "      <td>0.622812</td>\n",
              "      <td>0.176011</td>\n",
              "      <td>0.299679</td>\n",
              "      <td>0.876033</td>\n",
              "    </tr>\n",
              "    <tr>\n",
              "      <th>1</th>\n",
              "      <td>310010</td>\n",
              "      <td>Abadia dos Dourados (MG)</td>\n",
              "      <td>6.799502</td>\n",
              "      <td>1.974081</td>\n",
              "      <td>19.770597</td>\n",
              "      <td>72.92</td>\n",
              "      <td>3.020913</td>\n",
              "      <td>0.932164</td>\n",
              "      <td>2.672768</td>\n",
              "      <td>5.279950</td>\n",
              "      <td>0.52</td>\n",
              "      <td>51.90</td>\n",
              "      <td>35.22</td>\n",
              "      <td>0.760</td>\n",
              "      <td>74.57</td>\n",
              "      <td>86.58</td>\n",
              "      <td>1.472472</td>\n",
              "      <td>8.104099</td>\n",
              "      <td>8.237744</td>\n",
              "      <td>5.869297</td>\n",
              "      <td>6.129050</td>\n",
              "      <td>8.778326</td>\n",
              "      <td>8.771215</td>\n",
              "      <td>3927</td>\n",
              "      <td>2519</td>\n",
              "      <td>MG</td>\n",
              "      <td>0.609215</td>\n",
              "      <td>-0.007086</td>\n",
              "      <td>0.142987</td>\n",
              "      <td>0.296610</td>\n",
              "    </tr>\n",
              "    <tr>\n",
              "      <th>2</th>\n",
              "      <td>520010</td>\n",
              "      <td>Abadiânia (GO)</td>\n",
              "      <td>6.954353</td>\n",
              "      <td>2.388763</td>\n",
              "      <td>8.868001</td>\n",
              "      <td>69.59</td>\n",
              "      <td>3.107274</td>\n",
              "      <td>1.018847</td>\n",
              "      <td>3.082369</td>\n",
              "      <td>5.125808</td>\n",
              "      <td>0.56</td>\n",
              "      <td>47.06</td>\n",
              "      <td>40.32</td>\n",
              "      <td>0.723</td>\n",
              "      <td>74.18</td>\n",
              "      <td>82.45</td>\n",
              "      <td>1.444563</td>\n",
              "      <td>8.352554</td>\n",
              "      <td>8.685754</td>\n",
              "      <td>6.100319</td>\n",
              "      <td>6.530878</td>\n",
              "      <td>9.148678</td>\n",
              "      <td>9.345920</td>\n",
              "      <td>7206</td>\n",
              "      <td>4246</td>\n",
              "      <td>GO</td>\n",
              "      <td>0.629235</td>\n",
              "      <td>0.218039</td>\n",
              "      <td>0.395426</td>\n",
              "      <td>0.538117</td>\n",
              "    </tr>\n",
              "  </tbody>\n",
              "</table>\n",
              "</div>"
            ],
            "text/plain": [
              "   Codigo                 Municipio  Area_km2  Densidade_demografica_2000  \\\n",
              "0  520005      Abadia de Goiás (GO)  4.919251                    3.591818   \n",
              "1  310010  Abadia dos Dourados (MG)  6.799502                    1.974081   \n",
              "2  520010            Abadiânia (GO)  6.954353                    2.388763   \n",
              "\n",
              "   Distancia_a_capital_km  Esperanca_de_vida_ao_nascer_2000  \\\n",
              "0                4.627560                             67.58   \n",
              "1               19.770597                             72.92   \n",
              "2                8.868001                             69.59   \n",
              "\n",
              "   Mortalidade_ate_um_ano_de_idade_2000  Taxa_de_fecundidade_total_2000  \\\n",
              "0                              3.321432                        1.047319   \n",
              "1                              3.020913                        0.932164   \n",
              "2                              3.107274                        1.018847   \n",
              "\n",
              "   Percentual_de_pessoas_de_25_anos_ou_mais_analfabetas_2000  \\\n",
              "0                                           2.749832           \n",
              "1                                           2.672768           \n",
              "2                                           3.082369           \n",
              "\n",
              "   Renda_per_Capita_2000  Indice_de_Gini_2000  Intensidade_da_indigencia_2000  \\\n",
              "0               5.324326                 0.53                           36.89   \n",
              "1               5.279950                 0.52                           51.90   \n",
              "2               5.125808                 0.56                           47.06   \n",
              "\n",
              "   Intensidade_da_pobreza_2000  \\\n",
              "0                        34.40   \n",
              "1                        35.22   \n",
              "2                        40.32   \n",
              "\n",
              "   Indice_de_Desenvolvimento_Humano_Municipal_2000  \\\n",
              "0                                            0.742   \n",
              "1                                            0.760   \n",
              "2                                            0.723   \n",
              "\n",
              "   Taxa_bruta_de_frequencia_a_escola_2000  Taxa_de_alfabetizacao_2000  \\\n",
              "0                                   80.17                       88.03   \n",
              "1                                   74.57                       86.58   \n",
              "2                                   74.18                       82.45   \n",
              "\n",
              "   Media_de_anos_de_estudo_das_pessoas_de_25_anos_ou_mais_de_idade_2000  \\\n",
              "0                                           1.583094                      \n",
              "1                                           1.472472                      \n",
              "2                                           1.444563                      \n",
              "\n",
              "   Populacao_de_25_anos_ou_mais_de_idade_1991  \\\n",
              "0                                    7.534763   \n",
              "1                                    8.104099   \n",
              "2                                    8.352554   \n",
              "\n",
              "   Populacao_de_25_anos_ou_mais_de_idade_2000  \\\n",
              "0                                    7.796880   \n",
              "1                                    8.237744   \n",
              "2                                    8.685754   \n",
              "\n",
              "   Populacao_de_65_anos_ou_mais_de_idade_1991  \\\n",
              "0                                    4.795791   \n",
              "1                                    5.869297   \n",
              "2                                    6.100319   \n",
              "\n",
              "   Populacao_de_65_anos_ou_mais_de_idade_2000  Populacao_total_1991  \\\n",
              "0                                    5.424950              8.349248   \n",
              "1                                    6.129050              8.778326   \n",
              "2                                    6.530878              9.148678   \n",
              "\n",
              "   Populacao_total_2000  Populacao_urbana_2000  Populacao_rural_2000 Estado  \\\n",
              "0              8.511376                   3096                  1875     GO   \n",
              "1              8.771215                   3927                  2519     MG   \n",
              "2              9.345920                   7206                  4246     GO   \n",
              "\n",
              "   razao_urbana_total_2000  crescimento_populacao_total_1991_2000  \\\n",
              "0                 0.622812                               0.176011   \n",
              "1                 0.609215                              -0.007086   \n",
              "2                 0.629235                               0.218039   \n",
              "\n",
              "   crescimento_25_mais_1991_2000  crescimento_65_mais_1991_2000  \n",
              "0                       0.299679                       0.876033  \n",
              "1                       0.142987                       0.296610  \n",
              "2                       0.395426                       0.538117  "
            ]
          },
          "metadata": {
            "tags": []
          },
          "execution_count": 17
        }
      ]
    },
    {
      "cell_type": "code",
      "metadata": {
        "colab": {
          "base_uri": "https://localhost:8080/"
        },
        "id": "4kRISeoX6dtf",
        "outputId": "01b4842f-3511-40d6-d1db-a328b999aa83"
      },
      "source": [
        "vars_log.extend(['Distancia_a_capital_km' , 'Esperanca_de_vida_ao_nascer_2000', 'Indice_de_Gini_2000',\n",
        "       'Intensidade_da_indigencia_2000', 'Intensidade_da_pobreza_2000',\n",
        "       'Indice_de_Desenvolvimento_Humano_Municipal_2000',\n",
        "       'Taxa_bruta_de_frequencia_a_escola_2000', 'Taxa_de_alfabetizacao_2000'])\n",
        "vars_log"
      ],
      "execution_count": 18,
      "outputs": [
        {
          "output_type": "execute_result",
          "data": {
            "text/plain": [
              "['Area_km2',\n",
              " 'Densidade_demografica_2000',\n",
              " 'Mortalidade_ate_um_ano_de_idade_2000',\n",
              " 'Taxa_de_fecundidade_total_2000',\n",
              " 'Percentual_de_pessoas_de_25_anos_ou_mais_analfabetas_2000',\n",
              " 'Renda_per_Capita_2000',\n",
              " 'Media_de_anos_de_estudo_das_pessoas_de_25_anos_ou_mais_de_idade_2000',\n",
              " 'Populacao_de_25_anos_ou_mais_de_idade_1991',\n",
              " 'Populacao_de_25_anos_ou_mais_de_idade_2000',\n",
              " 'Populacao_de_65_anos_ou_mais_de_idade_1991',\n",
              " 'Populacao_de_65_anos_ou_mais_de_idade_2000',\n",
              " 'Populacao_total_1991',\n",
              " 'Populacao_total_2000',\n",
              " 'Distancia_a_capital_km',\n",
              " 'Esperanca_de_vida_ao_nascer_2000',\n",
              " 'Indice_de_Gini_2000',\n",
              " 'Intensidade_da_indigencia_2000',\n",
              " 'Intensidade_da_pobreza_2000',\n",
              " 'Indice_de_Desenvolvimento_Humano_Municipal_2000',\n",
              " 'Taxa_bruta_de_frequencia_a_escola_2000',\n",
              " 'Taxa_de_alfabetizacao_2000']"
            ]
          },
          "metadata": {
            "tags": []
          },
          "execution_count": 18
        }
      ]
    },
    {
      "cell_type": "code",
      "metadata": {
        "id": "tr5r0r_l5iVp"
      },
      "source": [
        "## padronizar x- mean(x) / sd(x ), podiamos usar standardscale do sklearn\n",
        "for c in vars_log:\n",
        "  df[c]= (df[c] - np.mean(df[c]) )/ np.std(df[c])\n"
      ],
      "execution_count": 19,
      "outputs": []
    },
    {
      "cell_type": "code",
      "metadata": {
        "colab": {
          "base_uri": "https://localhost:8080/",
          "height": 316
        },
        "id": "4irDu3eE1TQm",
        "outputId": "dbd15a0a-2a4d-4aec-e419-984097436a6d"
      },
      "source": [
        "df.head()"
      ],
      "execution_count": 20,
      "outputs": [
        {
          "output_type": "execute_result",
          "data": {
            "text/html": [
              "<div>\n",
              "<style scoped>\n",
              "    .dataframe tbody tr th:only-of-type {\n",
              "        vertical-align: middle;\n",
              "    }\n",
              "\n",
              "    .dataframe tbody tr th {\n",
              "        vertical-align: top;\n",
              "    }\n",
              "\n",
              "    .dataframe thead th {\n",
              "        text-align: right;\n",
              "    }\n",
              "</style>\n",
              "<table border=\"1\" class=\"dataframe\">\n",
              "  <thead>\n",
              "    <tr style=\"text-align: right;\">\n",
              "      <th></th>\n",
              "      <th>Codigo</th>\n",
              "      <th>Municipio</th>\n",
              "      <th>Area_km2</th>\n",
              "      <th>Densidade_demografica_2000</th>\n",
              "      <th>Distancia_a_capital_km</th>\n",
              "      <th>Esperanca_de_vida_ao_nascer_2000</th>\n",
              "      <th>Mortalidade_ate_um_ano_de_idade_2000</th>\n",
              "      <th>Taxa_de_fecundidade_total_2000</th>\n",
              "      <th>Percentual_de_pessoas_de_25_anos_ou_mais_analfabetas_2000</th>\n",
              "      <th>Renda_per_Capita_2000</th>\n",
              "      <th>Indice_de_Gini_2000</th>\n",
              "      <th>Intensidade_da_indigencia_2000</th>\n",
              "      <th>Intensidade_da_pobreza_2000</th>\n",
              "      <th>Indice_de_Desenvolvimento_Humano_Municipal_2000</th>\n",
              "      <th>Taxa_bruta_de_frequencia_a_escola_2000</th>\n",
              "      <th>Taxa_de_alfabetizacao_2000</th>\n",
              "      <th>Media_de_anos_de_estudo_das_pessoas_de_25_anos_ou_mais_de_idade_2000</th>\n",
              "      <th>Populacao_de_25_anos_ou_mais_de_idade_1991</th>\n",
              "      <th>Populacao_de_25_anos_ou_mais_de_idade_2000</th>\n",
              "      <th>Populacao_de_65_anos_ou_mais_de_idade_1991</th>\n",
              "      <th>Populacao_de_65_anos_ou_mais_de_idade_2000</th>\n",
              "      <th>Populacao_total_1991</th>\n",
              "      <th>Populacao_total_2000</th>\n",
              "      <th>Populacao_urbana_2000</th>\n",
              "      <th>Populacao_rural_2000</th>\n",
              "      <th>Estado</th>\n",
              "      <th>razao_urbana_total_2000</th>\n",
              "      <th>crescimento_populacao_total_1991_2000</th>\n",
              "      <th>crescimento_25_mais_1991_2000</th>\n",
              "      <th>crescimento_65_mais_1991_2000</th>\n",
              "    </tr>\n",
              "  </thead>\n",
              "  <tbody>\n",
              "    <tr>\n",
              "      <th>0</th>\n",
              "      <td>520005</td>\n",
              "      <td>Abadia de Goiás (GO)</td>\n",
              "      <td>-1.006100</td>\n",
              "      <td>0.316172</td>\n",
              "      <td>-1.956877</td>\n",
              "      <td>-0.034755</td>\n",
              "      <td>-0.094277</td>\n",
              "      <td>0.102636</td>\n",
              "      <td>-0.531210</td>\n",
              "      <td>0.594140</td>\n",
              "      <td>-0.523949</td>\n",
              "      <td>-1.220016</td>\n",
              "      <td>-1.182129</td>\n",
              "      <td>0.511050</td>\n",
              "      <td>0.328420</td>\n",
              "      <td>0.786522</td>\n",
              "      <td>0.707499</td>\n",
              "      <td>-0.828806</td>\n",
              "      <td>-0.754059</td>\n",
              "      <td>-1.344760</td>\n",
              "      <td>-1.068735</td>\n",
              "      <td>-0.856766</td>\n",
              "      <td>-0.759695</td>\n",
              "      <td>3096</td>\n",
              "      <td>1875</td>\n",
              "      <td>GO</td>\n",
              "      <td>0.622812</td>\n",
              "      <td>0.176011</td>\n",
              "      <td>0.299679</td>\n",
              "      <td>0.876033</td>\n",
              "    </tr>\n",
              "    <tr>\n",
              "      <th>1</th>\n",
              "      <td>310010</td>\n",
              "      <td>Abadia dos Dourados (MG)</td>\n",
              "      <td>0.462013</td>\n",
              "      <td>-0.833149</td>\n",
              "      <td>0.899115</td>\n",
              "      <td>1.063903</td>\n",
              "      <td>-0.622016</td>\n",
              "      <td>-0.385885</td>\n",
              "      <td>-0.649753</td>\n",
              "      <td>0.517508</td>\n",
              "      <td>-0.694430</td>\n",
              "      <td>0.199970</td>\n",
              "      <td>-1.105719</td>\n",
              "      <td>0.726676</td>\n",
              "      <td>-0.506370</td>\n",
              "      <td>0.670142</td>\n",
              "      <td>0.384287</td>\n",
              "      <td>-0.298316</td>\n",
              "      <td>-0.354126</td>\n",
              "      <td>-0.355004</td>\n",
              "      <td>-0.413149</td>\n",
              "      <td>-0.456129</td>\n",
              "      <td>-0.525809</td>\n",
              "      <td>3927</td>\n",
              "      <td>2519</td>\n",
              "      <td>MG</td>\n",
              "      <td>0.609215</td>\n",
              "      <td>-0.007086</td>\n",
              "      <td>0.142987</td>\n",
              "      <td>0.296610</td>\n",
              "    </tr>\n",
              "    <tr>\n",
              "      <th>2</th>\n",
              "      <td>520010</td>\n",
              "      <td>Abadiânia (GO)</td>\n",
              "      <td>0.582922</td>\n",
              "      <td>-0.538538</td>\n",
              "      <td>-1.157126</td>\n",
              "      <td>0.378785</td>\n",
              "      <td>-0.470358</td>\n",
              "      <td>-0.018149</td>\n",
              "      <td>-0.019681</td>\n",
              "      <td>0.251326</td>\n",
              "      <td>-0.012507</td>\n",
              "      <td>-0.257907</td>\n",
              "      <td>-0.630484</td>\n",
              "      <td>0.283445</td>\n",
              "      <td>-0.564507</td>\n",
              "      <td>0.338657</td>\n",
              "      <td>0.302744</td>\n",
              "      <td>-0.066812</td>\n",
              "      <td>0.052290</td>\n",
              "      <td>-0.142005</td>\n",
              "      <td>-0.039008</td>\n",
              "      <td>-0.110326</td>\n",
              "      <td>-0.008507</td>\n",
              "      <td>7206</td>\n",
              "      <td>4246</td>\n",
              "      <td>GO</td>\n",
              "      <td>0.629235</td>\n",
              "      <td>0.218039</td>\n",
              "      <td>0.395426</td>\n",
              "      <td>0.538117</td>\n",
              "    </tr>\n",
              "    <tr>\n",
              "      <th>3</th>\n",
              "      <td>150010</td>\n",
              "      <td>Abaetetuba (PA)</td>\n",
              "      <td>0.920274</td>\n",
              "      <td>0.820266</td>\n",
              "      <td>-1.480324</td>\n",
              "      <td>0.621560</td>\n",
              "      <td>-0.232041</td>\n",
              "      <td>0.527219</td>\n",
              "      <td>0.181046</td>\n",
              "      <td>-0.611176</td>\n",
              "      <td>0.498936</td>\n",
              "      <td>-0.489683</td>\n",
              "      <td>0.368441</td>\n",
              "      <td>0.079798</td>\n",
              "      <td>0.565441</td>\n",
              "      <td>0.201409</td>\n",
              "      <td>0.330179</td>\n",
              "      <td>1.860421</td>\n",
              "      <td>1.890532</td>\n",
              "      <td>1.831346</td>\n",
              "      <td>1.750454</td>\n",
              "      <td>2.097103</td>\n",
              "      <td>2.099782</td>\n",
              "      <td>70843</td>\n",
              "      <td>48309</td>\n",
              "      <td>PA</td>\n",
              "      <td>0.594560</td>\n",
              "      <td>0.191651</td>\n",
              "      <td>0.338052</td>\n",
              "      <td>0.236287</td>\n",
              "    </tr>\n",
              "    <tr>\n",
              "      <th>4</th>\n",
              "      <td>310020</td>\n",
              "      <td>Abaeté (MG)</td>\n",
              "      <td>1.015143</td>\n",
              "      <td>-0.452690</td>\n",
              "      <td>-0.353921</td>\n",
              "      <td>0.977492</td>\n",
              "      <td>-0.531898</td>\n",
              "      <td>-0.608764</td>\n",
              "      <td>-0.539098</td>\n",
              "      <td>0.959798</td>\n",
              "      <td>0.328455</td>\n",
              "      <td>-0.781060</td>\n",
              "      <td>-1.435588</td>\n",
              "      <td>0.942302</td>\n",
              "      <td>0.063076</td>\n",
              "      <td>0.747996</td>\n",
              "      <td>0.652998</td>\n",
              "      <td>0.747512</td>\n",
              "      <td>0.723753</td>\n",
              "      <td>0.676804</td>\n",
              "      <td>0.746607</td>\n",
              "      <td>0.626075</td>\n",
              "      <td>0.593770</td>\n",
              "      <td>19022</td>\n",
              "      <td>3338</td>\n",
              "      <td>MG</td>\n",
              "      <td>0.850716</td>\n",
              "      <td>0.080768</td>\n",
              "      <td>0.220703</td>\n",
              "      <td>0.471402</td>\n",
              "    </tr>\n",
              "  </tbody>\n",
              "</table>\n",
              "</div>"
            ],
            "text/plain": [
              "   Codigo                 Municipio  Area_km2  Densidade_demografica_2000  \\\n",
              "0  520005      Abadia de Goiás (GO) -1.006100                    0.316172   \n",
              "1  310010  Abadia dos Dourados (MG)  0.462013                   -0.833149   \n",
              "2  520010            Abadiânia (GO)  0.582922                   -0.538538   \n",
              "3  150010           Abaetetuba (PA)  0.920274                    0.820266   \n",
              "4  310020               Abaeté (MG)  1.015143                   -0.452690   \n",
              "\n",
              "   Distancia_a_capital_km  Esperanca_de_vida_ao_nascer_2000  \\\n",
              "0               -1.956877                         -0.034755   \n",
              "1                0.899115                          1.063903   \n",
              "2               -1.157126                          0.378785   \n",
              "3               -1.480324                          0.621560   \n",
              "4               -0.353921                          0.977492   \n",
              "\n",
              "   Mortalidade_ate_um_ano_de_idade_2000  Taxa_de_fecundidade_total_2000  \\\n",
              "0                             -0.094277                        0.102636   \n",
              "1                             -0.622016                       -0.385885   \n",
              "2                             -0.470358                       -0.018149   \n",
              "3                             -0.232041                        0.527219   \n",
              "4                             -0.531898                       -0.608764   \n",
              "\n",
              "   Percentual_de_pessoas_de_25_anos_ou_mais_analfabetas_2000  \\\n",
              "0                                          -0.531210           \n",
              "1                                          -0.649753           \n",
              "2                                          -0.019681           \n",
              "3                                           0.181046           \n",
              "4                                          -0.539098           \n",
              "\n",
              "   Renda_per_Capita_2000  Indice_de_Gini_2000  Intensidade_da_indigencia_2000  \\\n",
              "0               0.594140            -0.523949                       -1.220016   \n",
              "1               0.517508            -0.694430                        0.199970   \n",
              "2               0.251326            -0.012507                       -0.257907   \n",
              "3              -0.611176             0.498936                       -0.489683   \n",
              "4               0.959798             0.328455                       -0.781060   \n",
              "\n",
              "   Intensidade_da_pobreza_2000  \\\n",
              "0                    -1.182129   \n",
              "1                    -1.105719   \n",
              "2                    -0.630484   \n",
              "3                     0.368441   \n",
              "4                    -1.435588   \n",
              "\n",
              "   Indice_de_Desenvolvimento_Humano_Municipal_2000  \\\n",
              "0                                         0.511050   \n",
              "1                                         0.726676   \n",
              "2                                         0.283445   \n",
              "3                                         0.079798   \n",
              "4                                         0.942302   \n",
              "\n",
              "   Taxa_bruta_de_frequencia_a_escola_2000  Taxa_de_alfabetizacao_2000  \\\n",
              "0                                0.328420                    0.786522   \n",
              "1                               -0.506370                    0.670142   \n",
              "2                               -0.564507                    0.338657   \n",
              "3                                0.565441                    0.201409   \n",
              "4                                0.063076                    0.747996   \n",
              "\n",
              "   Media_de_anos_de_estudo_das_pessoas_de_25_anos_ou_mais_de_idade_2000  \\\n",
              "0                                           0.707499                      \n",
              "1                                           0.384287                      \n",
              "2                                           0.302744                      \n",
              "3                                           0.330179                      \n",
              "4                                           0.652998                      \n",
              "\n",
              "   Populacao_de_25_anos_ou_mais_de_idade_1991  \\\n",
              "0                                   -0.828806   \n",
              "1                                   -0.298316   \n",
              "2                                   -0.066812   \n",
              "3                                    1.860421   \n",
              "4                                    0.747512   \n",
              "\n",
              "   Populacao_de_25_anos_ou_mais_de_idade_2000  \\\n",
              "0                                   -0.754059   \n",
              "1                                   -0.354126   \n",
              "2                                    0.052290   \n",
              "3                                    1.890532   \n",
              "4                                    0.723753   \n",
              "\n",
              "   Populacao_de_65_anos_ou_mais_de_idade_1991  \\\n",
              "0                                   -1.344760   \n",
              "1                                   -0.355004   \n",
              "2                                   -0.142005   \n",
              "3                                    1.831346   \n",
              "4                                    0.676804   \n",
              "\n",
              "   Populacao_de_65_anos_ou_mais_de_idade_2000  Populacao_total_1991  \\\n",
              "0                                   -1.068735             -0.856766   \n",
              "1                                   -0.413149             -0.456129   \n",
              "2                                   -0.039008             -0.110326   \n",
              "3                                    1.750454              2.097103   \n",
              "4                                    0.746607              0.626075   \n",
              "\n",
              "   Populacao_total_2000  Populacao_urbana_2000  Populacao_rural_2000 Estado  \\\n",
              "0             -0.759695                   3096                  1875     GO   \n",
              "1             -0.525809                   3927                  2519     MG   \n",
              "2             -0.008507                   7206                  4246     GO   \n",
              "3              2.099782                  70843                 48309     PA   \n",
              "4              0.593770                  19022                  3338     MG   \n",
              "\n",
              "   razao_urbana_total_2000  crescimento_populacao_total_1991_2000  \\\n",
              "0                 0.622812                               0.176011   \n",
              "1                 0.609215                              -0.007086   \n",
              "2                 0.629235                               0.218039   \n",
              "3                 0.594560                               0.191651   \n",
              "4                 0.850716                               0.080768   \n",
              "\n",
              "   crescimento_25_mais_1991_2000  crescimento_65_mais_1991_2000  \n",
              "0                       0.299679                       0.876033  \n",
              "1                       0.142987                       0.296610  \n",
              "2                       0.395426                       0.538117  \n",
              "3                       0.338052                       0.236287  \n",
              "4                       0.220703                       0.471402  "
            ]
          },
          "metadata": {
            "tags": []
          },
          "execution_count": 20
        }
      ]
    },
    {
      "cell_type": "code",
      "metadata": {
        "colab": {
          "base_uri": "https://localhost:8080/"
        },
        "id": "AMKdRvdf_7df",
        "outputId": "0e293373-9016-4353-89ff-29c0d0778e36"
      },
      "source": [
        "vars_log.extend(['razao_urbana_total_2000','crescimento_populacao_total_1991_2000',\n",
        "                 'crescimento_25_mais_1991_2000','crescimento_65_mais_1991_2000'])\n",
        "vars_log"
      ],
      "execution_count": 21,
      "outputs": [
        {
          "output_type": "execute_result",
          "data": {
            "text/plain": [
              "['Area_km2',\n",
              " 'Densidade_demografica_2000',\n",
              " 'Mortalidade_ate_um_ano_de_idade_2000',\n",
              " 'Taxa_de_fecundidade_total_2000',\n",
              " 'Percentual_de_pessoas_de_25_anos_ou_mais_analfabetas_2000',\n",
              " 'Renda_per_Capita_2000',\n",
              " 'Media_de_anos_de_estudo_das_pessoas_de_25_anos_ou_mais_de_idade_2000',\n",
              " 'Populacao_de_25_anos_ou_mais_de_idade_1991',\n",
              " 'Populacao_de_25_anos_ou_mais_de_idade_2000',\n",
              " 'Populacao_de_65_anos_ou_mais_de_idade_1991',\n",
              " 'Populacao_de_65_anos_ou_mais_de_idade_2000',\n",
              " 'Populacao_total_1991',\n",
              " 'Populacao_total_2000',\n",
              " 'Distancia_a_capital_km',\n",
              " 'Esperanca_de_vida_ao_nascer_2000',\n",
              " 'Indice_de_Gini_2000',\n",
              " 'Intensidade_da_indigencia_2000',\n",
              " 'Intensidade_da_pobreza_2000',\n",
              " 'Indice_de_Desenvolvimento_Humano_Municipal_2000',\n",
              " 'Taxa_bruta_de_frequencia_a_escola_2000',\n",
              " 'Taxa_de_alfabetizacao_2000',\n",
              " 'razao_urbana_total_2000',\n",
              " 'crescimento_populacao_total_1991_2000',\n",
              " 'crescimento_25_mais_1991_2000',\n",
              " 'crescimento_65_mais_1991_2000']"
            ]
          },
          "metadata": {
            "tags": []
          },
          "execution_count": 21
        }
      ]
    },
    {
      "cell_type": "code",
      "metadata": {
        "id": "lpB6jM8jA8ki"
      },
      "source": [
        "## kmeans etapa 1, nao vamos usar padronização nem normalização nesta etapa, por\n",
        "## isso estamos usando diretamente df_Informacao_Municipais\n",
        "distortions = []\n",
        "for i in range(1, 11):\n",
        "    km = KMeans(\n",
        "        n_clusters=i, init='random',\n",
        "        n_init=10, max_iter=300,\n",
        "        tol=1e-04, random_state=0\n",
        "    )\n",
        "    km.fit(df_Informacao_Municipais[vars_log])\n",
        "    distortions.append(km.inertia_)\n",
        "\n"
      ],
      "execution_count": 23,
      "outputs": []
    },
    {
      "cell_type": "code",
      "metadata": {
        "colab": {
          "base_uri": "https://localhost:8080/",
          "height": 290
        },
        "id": "tRio44E7CzR9",
        "outputId": "0a2f0dc9-c0bf-47eb-f6e2-147aa03a8b3c"
      },
      "source": [
        "# plot\n",
        "plt.plot(range(1, 11), distortions, marker='o')\n",
        "plt.xlabel('Number of clusters')\n",
        "plt.ylabel('Distortion')\n",
        "plt.show()"
      ],
      "execution_count": 25,
      "outputs": [
        {
          "output_type": "display_data",
          "data": {
            "image/png": "[encoded data removed]",
            "text/plain": [
              "<Figure size 432x288 with 1 Axes>"
            ]
          },
          "metadata": {
            "tags": [],
            "needs_background": "light"
          }
        }
      ]
    },
    {
      "cell_type": "code",
      "metadata": {
        "id": "ZaDVhuuSEpzm",
        "colab": {
          "base_uri": "https://localhost:8080/"
        },
        "outputId": "eb77ab14-e656-4e20-be00-89f6bfd07914"
      },
      "source": [
        "## usaremos k=3\n",
        "kmeans_3 = km = KMeans(\n",
        "        n_clusters=3, init='random',\n",
        "        n_init=3, max_iter=300,\n",
        "        tol=1e-04, random_state=0\n",
        "    )\n",
        "kmeans_3.fit(df_Informacao_Municipais[vars_log])"
      ],
      "execution_count": 26,
      "outputs": [
        {
          "output_type": "execute_result",
          "data": {
            "text/plain": [
              "KMeans(algorithm='auto', copy_x=True, init='random', max_iter=300, n_clusters=3,\n",
              "       n_init=3, n_jobs=None, precompute_distances='auto', random_state=0,\n",
              "       tol=0.0001, verbose=0)"
            ]
          },
          "metadata": {
            "tags": []
          },
          "execution_count": 26
        }
      ]
    },
    {
      "cell_type": "code",
      "metadata": {
        "id": "REnFtcshMd2M",
        "colab": {
          "base_uri": "https://localhost:8080/"
        },
        "outputId": "6325235c-d358-4a70-f197-1a645485c48c"
      },
      "source": [
        "df_Informacao_Municipais['grupo']=np.ndarray.tolist(kmeans_3.labels_)\n",
        "df_Informacao_Municipais.grupo.value_counts()"
      ],
      "execution_count": 27,
      "outputs": [
        {
          "output_type": "execute_result",
          "data": {
            "text/plain": [
              "1    5482\n",
              "0      23\n",
              "2       2\n",
              "Name: grupo, dtype: int64"
            ]
          },
          "metadata": {
            "tags": []
          },
          "execution_count": 27
        }
      ]
    },
    {
      "cell_type": "code",
      "metadata": {
        "colab": {
          "base_uri": "https://localhost:8080/",
          "height": 787
        },
        "id": "q8CSh8ReLkYt",
        "outputId": "6829ce8f-7940-4174-f6a4-f7a7da6df026"
      },
      "source": [
        "## vamos caracterizar cada municipio e olhar as médias de cada variavel \n",
        "\n",
        "\n",
        "pd.DataFrame({\n",
        "\"grupo_1\":df_Informacao_Municipais[df_Informacao_Municipais.grupo==0][vars_log].mean(axis=0),\n",
        " \"grupo_2\":df_Informacao_Municipais[df_Informacao_Municipais.grupo==1][vars_log].mean(axis=0),\n",
        " \"grupo_3\":df_Informacao_Municipais[df_Informacao_Municipais.grupo==2][vars_log].mean(axis=0)}).round(2)\n",
        "# \"grupo_4\":df_Informacao_Municipais[df_Informacao_Municipais.grupo==3][vars_log].mean(axis=0)})\n",
        "\n",
        "##fim da etapa 1 "
      ],
      "execution_count": 28,
      "outputs": [
        {
          "output_type": "execute_result",
          "data": {
            "text/html": [
              "<div>\n",
              "<style scoped>\n",
              "    .dataframe tbody tr th:only-of-type {\n",
              "        vertical-align: middle;\n",
              "    }\n",
              "\n",
              "    .dataframe tbody tr th {\n",
              "        vertical-align: top;\n",
              "    }\n",
              "\n",
              "    .dataframe thead th {\n",
              "        text-align: right;\n",
              "    }\n",
              "</style>\n",
              "<table border=\"1\" class=\"dataframe\">\n",
              "  <thead>\n",
              "    <tr style=\"text-align: right;\">\n",
              "      <th></th>\n",
              "      <th>grupo_1</th>\n",
              "      <th>grupo_2</th>\n",
              "      <th>grupo_3</th>\n",
              "    </tr>\n",
              "  </thead>\n",
              "  <tbody>\n",
              "    <tr>\n",
              "      <th>Area_km2</th>\n",
              "      <td>1562.89</td>\n",
              "      <td>1549.21</td>\n",
              "      <td>1396.35</td>\n",
              "    </tr>\n",
              "    <tr>\n",
              "      <th>Densidade_demografica_2000</th>\n",
              "      <td>2919.67</td>\n",
              "      <td>82.84</td>\n",
              "      <td>5718.00</td>\n",
              "    </tr>\n",
              "    <tr>\n",
              "      <th>Mortalidade_ate_um_ano_de_idade_2000</th>\n",
              "      <td>25.29</td>\n",
              "      <td>34.12</td>\n",
              "      <td>21.78</td>\n",
              "    </tr>\n",
              "    <tr>\n",
              "      <th>Taxa_de_fecundidade_total_2000</th>\n",
              "      <td>1.99</td>\n",
              "      <td>2.87</td>\n",
              "      <td>1.88</td>\n",
              "    </tr>\n",
              "    <tr>\n",
              "      <th>Percentual_de_pessoas_de_25_anos_ou_mais_analfabetas_2000</th>\n",
              "      <td>8.44</td>\n",
              "      <td>26.75</td>\n",
              "      <td>5.24</td>\n",
              "    </tr>\n",
              "    <tr>\n",
              "      <th>Renda_per_Capita_2000</th>\n",
              "      <td>401.66</td>\n",
              "      <td>169.69</td>\n",
              "      <td>603.34</td>\n",
              "    </tr>\n",
              "    <tr>\n",
              "      <th>Media_de_anos_de_estudo_das_pessoas_de_25_anos_ou_mais_de_idade_2000</th>\n",
              "      <td>7.39</td>\n",
              "      <td>4.02</td>\n",
              "      <td>8.12</td>\n",
              "    </tr>\n",
              "    <tr>\n",
              "      <th>Populacao_de_25_anos_ou_mais_de_idade_1991</th>\n",
              "      <td>472287.61</td>\n",
              "      <td>8776.09</td>\n",
              "      <td>4140949.50</td>\n",
              "    </tr>\n",
              "    <tr>\n",
              "      <th>Populacao_de_25_anos_ou_mais_de_idade_2000</th>\n",
              "      <td>618603.00</td>\n",
              "      <td>11289.03</td>\n",
              "      <td>4668695.50</td>\n",
              "    </tr>\n",
              "    <tr>\n",
              "      <th>Populacao_de_65_anos_ou_mais_de_idade_1991</th>\n",
              "      <td>40529.52</td>\n",
              "      <td>957.85</td>\n",
              "      <td>451533.50</td>\n",
              "    </tr>\n",
              "    <tr>\n",
              "      <th>Populacao_de_65_anos_ou_mais_de_idade_2000</th>\n",
              "      <td>60785.65</td>\n",
              "      <td>1337.47</td>\n",
              "      <td>602502.00</td>\n",
              "    </tr>\n",
              "    <tr>\n",
              "      <th>Populacao_total_1991</th>\n",
              "      <td>999479.65</td>\n",
              "      <td>19829.90</td>\n",
              "      <td>7565143.50</td>\n",
              "    </tr>\n",
              "    <tr>\n",
              "      <th>Populacao_total_2000</th>\n",
              "      <td>1192083.48</td>\n",
              "      <td>23000.56</td>\n",
              "      <td>8146078.00</td>\n",
              "    </tr>\n",
              "    <tr>\n",
              "      <th>Distancia_a_capital_km</th>\n",
              "      <td>9.21</td>\n",
              "      <td>254.33</td>\n",
              "      <td>0.00</td>\n",
              "    </tr>\n",
              "    <tr>\n",
              "      <th>Esperanca_de_vida_ao_nascer_2000</th>\n",
              "      <td>69.60</td>\n",
              "      <td>67.74</td>\n",
              "      <td>70.46</td>\n",
              "    </tr>\n",
              "    <tr>\n",
              "      <th>Indice_de_Gini_2000</th>\n",
              "      <td>0.60</td>\n",
              "      <td>0.56</td>\n",
              "      <td>0.62</td>\n",
              "    </tr>\n",
              "    <tr>\n",
              "      <th>Intensidade_da_indigencia_2000</th>\n",
              "      <td>58.65</td>\n",
              "      <td>49.74</td>\n",
              "      <td>69.81</td>\n",
              "    </tr>\n",
              "    <tr>\n",
              "      <th>Intensidade_da_pobreza_2000</th>\n",
              "      <td>45.59</td>\n",
              "      <td>47.09</td>\n",
              "      <td>49.04</td>\n",
              "    </tr>\n",
              "    <tr>\n",
              "      <th>Indice_de_Desenvolvimento_Humano_Municipal_2000</th>\n",
              "      <td>0.81</td>\n",
              "      <td>0.70</td>\n",
              "      <td>0.84</td>\n",
              "    </tr>\n",
              "    <tr>\n",
              "      <th>Taxa_bruta_de_frequencia_a_escola_2000</th>\n",
              "      <td>87.14</td>\n",
              "      <td>77.93</td>\n",
              "      <td>87.05</td>\n",
              "    </tr>\n",
              "    <tr>\n",
              "      <th>Taxa_de_alfabetizacao_2000</th>\n",
              "      <td>92.81</td>\n",
              "      <td>78.16</td>\n",
              "      <td>95.35</td>\n",
              "    </tr>\n",
              "    <tr>\n",
              "      <th>razao_urbana_total_2000</th>\n",
              "      <td>0.99</td>\n",
              "      <td>0.59</td>\n",
              "      <td>0.97</td>\n",
              "    </tr>\n",
              "    <tr>\n",
              "      <th>crescimento_populacao_total_1991_2000</th>\n",
              "      <td>0.20</td>\n",
              "      <td>0.11</td>\n",
              "      <td>0.08</td>\n",
              "    </tr>\n",
              "    <tr>\n",
              "      <th>crescimento_25_mais_1991_2000</th>\n",
              "      <td>0.32</td>\n",
              "      <td>0.25</td>\n",
              "      <td>0.12</td>\n",
              "    </tr>\n",
              "    <tr>\n",
              "      <th>crescimento_65_mais_1991_2000</th>\n",
              "      <td>0.53</td>\n",
              "      <td>0.41</td>\n",
              "      <td>0.33</td>\n",
              "    </tr>\n",
              "  </tbody>\n",
              "</table>\n",
              "</div>"
            ],
            "text/plain": [
              "                                                       grupo_1   grupo_2  \\\n",
              "Area_km2                                               1562.89   1549.21   \n",
              "Densidade_demografica_2000                             2919.67     82.84   \n",
              "Mortalidade_ate_um_ano_de_idade_2000                     25.29     34.12   \n",
              "Taxa_de_fecundidade_total_2000                            1.99      2.87   \n",
              "Percentual_de_pessoas_de_25_anos_ou_mais_analfa...        8.44     26.75   \n",
              "Renda_per_Capita_2000                                   401.66    169.69   \n",
              "Media_de_anos_de_estudo_das_pessoas_de_25_anos_...        7.39      4.02   \n",
              "Populacao_de_25_anos_ou_mais_de_idade_1991           472287.61   8776.09   \n",
              "Populacao_de_25_anos_ou_mais_de_idade_2000           618603.00  11289.03   \n",
              "Populacao_de_65_anos_ou_mais_de_idade_1991            40529.52    957.85   \n",
              "Populacao_de_65_anos_ou_mais_de_idade_2000            60785.65   1337.47   \n",
              "Populacao_total_1991                                 999479.65  19829.90   \n",
              "Populacao_total_2000                                1192083.48  23000.56   \n",
              "Distancia_a_capital_km                                    9.21    254.33   \n",
              "Esperanca_de_vida_ao_nascer_2000                         69.60     67.74   \n",
              "Indice_de_Gini_2000                                       0.60      0.56   \n",
              "Intensidade_da_indigencia_2000                           58.65     49.74   \n",
              "Intensidade_da_pobreza_2000                              45.59     47.09   \n",
              "Indice_de_Desenvolvimento_Humano_Municipal_2000           0.81      0.70   \n",
              "Taxa_bruta_de_frequencia_a_escola_2000                   87.14     77.93   \n",
              "Taxa_de_alfabetizacao_2000                               92.81     78.16   \n",
              "razao_urbana_total_2000                                   0.99      0.59   \n",
              "crescimento_populacao_total_1991_2000                     0.20      0.11   \n",
              "crescimento_25_mais_1991_2000                             0.32      0.25   \n",
              "crescimento_65_mais_1991_2000                             0.53      0.41   \n",
              "\n",
              "                                                       grupo_3  \n",
              "Area_km2                                               1396.35  \n",
              "Densidade_demografica_2000                             5718.00  \n",
              "Mortalidade_ate_um_ano_de_idade_2000                     21.78  \n",
              "Taxa_de_fecundidade_total_2000                            1.88  \n",
              "Percentual_de_pessoas_de_25_anos_ou_mais_analfa...        5.24  \n",
              "Renda_per_Capita_2000                                   603.34  \n",
              "Media_de_anos_de_estudo_das_pessoas_de_25_anos_...        8.12  \n",
              "Populacao_de_25_anos_ou_mais_de_idade_1991          4140949.50  \n",
              "Populacao_de_25_anos_ou_mais_de_idade_2000          4668695.50  \n",
              "Populacao_de_65_anos_ou_mais_de_idade_1991           451533.50  \n",
              "Populacao_de_65_anos_ou_mais_de_idade_2000           602502.00  \n",
              "Populacao_total_1991                                7565143.50  \n",
              "Populacao_total_2000                                8146078.00  \n",
              "Distancia_a_capital_km                                    0.00  \n",
              "Esperanca_de_vida_ao_nascer_2000                         70.46  \n",
              "Indice_de_Gini_2000                                       0.62  \n",
              "Intensidade_da_indigencia_2000                           69.81  \n",
              "Intensidade_da_pobreza_2000                              49.04  \n",
              "Indice_de_Desenvolvimento_Humano_Municipal_2000           0.84  \n",
              "Taxa_bruta_de_frequencia_a_escola_2000                   87.05  \n",
              "Taxa_de_alfabetizacao_2000                               95.35  \n",
              "razao_urbana_total_2000                                   0.97  \n",
              "crescimento_populacao_total_1991_2000                     0.08  \n",
              "crescimento_25_mais_1991_2000                             0.12  \n",
              "crescimento_65_mais_1991_2000                             0.33  "
            ]
          },
          "metadata": {
            "tags": []
          },
          "execution_count": 28
        }
      ]
    },
    {
      "cell_type": "code",
      "metadata": {
        "id": "TzAVbDjvzY2-"
      },
      "source": [
        "df_Informacao_Municipais.loc[((df_Informacao_Municipais.grupo==0) | (df_Informacao_Municipais.grupo==2))].to_csv('capitais_1.csv')\n"
      ],
      "execution_count": null,
      "outputs": []
    },
    {
      "cell_type": "code",
      "metadata": {
        "colab": {
          "base_uri": "https://localhost:8080/"
        },
        "id": "1k-6Vl_SBawe",
        "outputId": "8e98fd1c-8372-4523-deab-d69d7808223b"
      },
      "source": [
        "## vamos usar principal component para visualizar os grupos da etapa 1\n",
        "\n",
        "pca= PCA(n_components=2)\n",
        "pca.fit(df_Informacao_Municipais[vars_log])\n",
        "print(pca.explained_variance_ratio_)\n",
        "df_pca= pca.fit_transform(df_Informacao_Municipais[vars_log])"
      ],
      "execution_count": 30,
      "outputs": [
        {
          "output_type": "stream",
          "text": [
            "[0.99765869 0.00166719]\n"
          ],
          "name": "stdout"
        }
      ]
    },
    {
      "cell_type": "code",
      "metadata": {
        "id": "J6LPctfkTk-w",
        "colab": {
          "base_uri": "https://localhost:8080/"
        },
        "outputId": "49cb1de8-d0ce-4e70-8e2f-856df77d44e3"
      },
      "source": [
        "df_plot= pd.DataFrame( {\n",
        "    'pca_1':df_pca[:,0].tolist(), \n",
        "                        'pca_2':df_pca[:,1].tolist(),\n",
        "                        \"grupos\":df_Informacao_Municipais.grupo })\n",
        "df_plot.grupos.value_counts()"
      ],
      "execution_count": 32,
      "outputs": [
        {
          "output_type": "execute_result",
          "data": {
            "text/plain": [
              "1    5482\n",
              "0      23\n",
              "2       2\n",
              "Name: grupos, dtype: int64"
            ]
          },
          "metadata": {
            "tags": []
          },
          "execution_count": 32
        }
      ]
    },
    {
      "cell_type": "code",
      "metadata": {
        "colab": {
          "base_uri": "https://localhost:8080/",
          "height": 297
        },
        "id": "-AWNpsQ2TjGJ",
        "outputId": "fad50b9a-f41a-43cd-8f72-194a78d004e5"
      },
      "source": [
        "## visualizando\n",
        "sns.scatterplot(x=\"pca_1\",y =\"pca_2\",hue=\"grupos\",data=df_plot,palette=[\"C0\", \"C1\", \"k\"])\n"
      ],
      "execution_count": 33,
      "outputs": [
        {
          "output_type": "execute_result",
          "data": {
            "text/plain": [
              "<matplotlib.axes._subplots.AxesSubplot at 0x7fdb8713d5d0>"
            ]
          },
          "metadata": {
            "tags": []
          },
          "execution_count": 33
        },
        {
          "output_type": "display_data",
          "data": {
            "image/png": "[encoded data removed]",
            "text/plain": [
              "<Figure size 432x288 with 1 Axes>"
            ]
          },
          "metadata": {
            "tags": [],
            "needs_background": "light"
          }
        }
      ]
    },
    {
      "cell_type": "code",
      "metadata": {
        "id": "MOTHICFeZXN6",
        "colab": {
          "base_uri": "https://localhost:8080/"
        },
        "outputId": "9c8a83e7-6b45-4c05-82b1-aa2c2f35dd6f"
      },
      "source": [
        "# inicio da etapa 2 onde pegaremos apenas os elementos do grupo 2 e segmentaremos mais ainda\n",
        "##pegar apenas grupo 2 para segmentar novamente\n",
        "\n",
        "df_grupo_2= df_Informacao_Municipais[df_Informacao_Municipais.grupo==1].copy()\n",
        "df_grupo_2.shape"
      ],
      "execution_count": 34,
      "outputs": [
        {
          "output_type": "execute_result",
          "data": {
            "text/plain": [
              "(5482, 31)"
            ]
          },
          "metadata": {
            "tags": []
          },
          "execution_count": 34
        }
      ]
    },
    {
      "cell_type": "code",
      "metadata": {
        "id": "fHCBdr8zEO_8"
      },
      "source": [
        "#kmeans sem padronizar na etapa 2\n",
        "distortions = []\n",
        "for i in range(1, 11):\n",
        "    km = KMeans(\n",
        "        n_clusters=i, init='random',\n",
        "        n_init=10, max_iter=300,\n",
        "        tol=1e-04, random_state=0\n",
        "    )\n",
        "    km.fit(df_grupo_2[vars_log])\n",
        "    distortions.append(km.inertia_)\n",
        "\n",
        "\n"
      ],
      "execution_count": 35,
      "outputs": []
    },
    {
      "cell_type": "code",
      "metadata": {
        "colab": {
          "base_uri": "https://localhost:8080/",
          "height": 290
        },
        "id": "uBa9uHM_ckoH",
        "outputId": "d955f3ea-7fef-4474-bc83-59b434b06b51"
      },
      "source": [
        "# plot\n",
        "plt.plot(range(1, 11), distortions, marker='o')\n",
        "plt.xlabel('Number of clusters')\n",
        "plt.ylabel('Distortion')\n",
        "plt.show()"
      ],
      "execution_count": 36,
      "outputs": [
        {
          "output_type": "display_data",
          "data": {
            "image/png": "[encoded data removed]",
            "text/plain": [
              "<Figure size 432x288 with 1 Axes>"
            ]
          },
          "metadata": {
            "tags": [],
            "needs_background": "light"
          }
        }
      ]
    },
    {
      "cell_type": "code",
      "metadata": {
        "colab": {
          "base_uri": "https://localhost:8080/"
        },
        "id": "cuCuObu2cpmy",
        "outputId": "6dd4c89c-f505-4880-ad0a-738c81dd1852"
      },
      "source": [
        "## selecionando k =3 \n",
        "kmeans_3 = km = KMeans(\n",
        "        n_clusters=3, init='random',\n",
        "        n_init=3, max_iter=300,\n",
        "        tol=1e-04, random_state=0\n",
        "    )\n",
        "kmeans_3.fit(df_grupo_2[vars_log])"
      ],
      "execution_count": 37,
      "outputs": [
        {
          "output_type": "execute_result",
          "data": {
            "text/plain": [
              "KMeans(algorithm='auto', copy_x=True, init='random', max_iter=300, n_clusters=3,\n",
              "       n_init=3, n_jobs=None, precompute_distances='auto', random_state=0,\n",
              "       tol=0.0001, verbose=0)"
            ]
          },
          "metadata": {
            "tags": []
          },
          "execution_count": 37
        }
      ]
    },
    {
      "cell_type": "code",
      "metadata": {
        "colab": {
          "base_uri": "https://localhost:8080/"
        },
        "id": "6-J-lvo2dJd7",
        "outputId": "8e28d07e-931d-49a2-ec00-dceed3f20c0c"
      },
      "source": [
        "df_grupo_2['grupo']=np.ndarray.tolist(kmeans_3.labels_)\n",
        "df_grupo_2.grupo.value_counts()"
      ],
      "execution_count": 38,
      "outputs": [
        {
          "output_type": "execute_result",
          "data": {
            "text/plain": [
              "0    5025\n",
              "2     385\n",
              "1      72\n",
              "Name: grupo, dtype: int64"
            ]
          },
          "metadata": {
            "tags": []
          },
          "execution_count": 38
        }
      ]
    },
    {
      "cell_type": "code",
      "metadata": {
        "id": "Adno1t7cDo3N"
      },
      "source": [
        "df_grupo_2.loc[(df_grupo_2.grupo!=1)].to_csv('capitais_3.csv')"
      ],
      "execution_count": 33,
      "outputs": []
    },
    {
      "cell_type": "code",
      "metadata": {
        "colab": {
          "base_uri": "https://localhost:8080/",
          "height": 787
        },
        "id": "KZ_dPWyCdJ1E",
        "outputId": "aa3bc970-d8f0-487a-f99f-87820c53a22f"
      },
      "source": [
        "## caracterizando os grupos da etapa 2 \n",
        "pd.DataFrame({\n",
        "\"grupo_1\":df_grupo_2[df_grupo_2.grupo==0][vars_log].mean(axis=0),\n",
        " \"grupo_2\":df_grupo_2[df_grupo_2.grupo==1][vars_log].mean(axis=0),\n",
        " \"grupo_3\":df_grupo_2[df_grupo_2.grupo==2][vars_log].mean(axis=0)}).round(2)\n",
        " #\"grupo_4\":df_grupo_2[df_grupo_2.grupo==3][vars_log].mean(axis=0)}).round(2)"
      ],
      "execution_count": 39,
      "outputs": [
        {
          "output_type": "execute_result",
          "data": {
            "text/html": [
              "<div>\n",
              "<style scoped>\n",
              "    .dataframe tbody tr th:only-of-type {\n",
              "        vertical-align: middle;\n",
              "    }\n",
              "\n",
              "    .dataframe tbody tr th {\n",
              "        vertical-align: top;\n",
              "    }\n",
              "\n",
              "    .dataframe thead th {\n",
              "        text-align: right;\n",
              "    }\n",
              "</style>\n",
              "<table border=\"1\" class=\"dataframe\">\n",
              "  <thead>\n",
              "    <tr style=\"text-align: right;\">\n",
              "      <th></th>\n",
              "      <th>grupo_1</th>\n",
              "      <th>grupo_2</th>\n",
              "      <th>grupo_3</th>\n",
              "    </tr>\n",
              "  </thead>\n",
              "  <tbody>\n",
              "    <tr>\n",
              "      <th>Area_km2</th>\n",
              "      <td>1460.27</td>\n",
              "      <td>1976.09</td>\n",
              "      <td>2630.25</td>\n",
              "    </tr>\n",
              "    <tr>\n",
              "      <th>Densidade_demografica_2000</th>\n",
              "      <td>36.97</td>\n",
              "      <td>1543.40</td>\n",
              "      <td>408.41</td>\n",
              "    </tr>\n",
              "    <tr>\n",
              "      <th>Mortalidade_ate_um_ano_de_idade_2000</th>\n",
              "      <td>34.82</td>\n",
              "      <td>22.82</td>\n",
              "      <td>27.11</td>\n",
              "    </tr>\n",
              "    <tr>\n",
              "      <th>Taxa_de_fecundidade_total_2000</th>\n",
              "      <td>2.91</td>\n",
              "      <td>2.16</td>\n",
              "      <td>2.53</td>\n",
              "    </tr>\n",
              "    <tr>\n",
              "      <th>Percentual_de_pessoas_de_25_anos_ou_mais_analfabetas_2000</th>\n",
              "      <td>27.75</td>\n",
              "      <td>9.73</td>\n",
              "      <td>16.89</td>\n",
              "    </tr>\n",
              "    <tr>\n",
              "      <th>Renda_per_Capita_2000</th>\n",
              "      <td>160.77</td>\n",
              "      <td>344.39</td>\n",
              "      <td>253.37</td>\n",
              "    </tr>\n",
              "    <tr>\n",
              "      <th>Media_de_anos_de_estudo_das_pessoas_de_25_anos_ou_mais_de_idade_2000</th>\n",
              "      <td>3.87</td>\n",
              "      <td>6.72</td>\n",
              "      <td>5.49</td>\n",
              "    </tr>\n",
              "    <tr>\n",
              "      <th>Populacao_de_25_anos_ou_mais_de_idade_1991</th>\n",
              "      <td>4952.72</td>\n",
              "      <td>132037.78</td>\n",
              "      <td>35626.95</td>\n",
              "    </tr>\n",
              "    <tr>\n",
              "      <th>Populacao_de_25_anos_ou_mais_de_idade_2000</th>\n",
              "      <td>6109.67</td>\n",
              "      <td>175748.18</td>\n",
              "      <td>48133.70</td>\n",
              "    </tr>\n",
              "    <tr>\n",
              "      <th>Populacao_de_65_anos_ou_mais_de_idade_1991</th>\n",
              "      <td>600.67</td>\n",
              "      <td>11910.57</td>\n",
              "      <td>3571.37</td>\n",
              "    </tr>\n",
              "    <tr>\n",
              "      <th>Populacao_de_65_anos_ou_mais_de_idade_2000</th>\n",
              "      <td>802.68</td>\n",
              "      <td>18003.69</td>\n",
              "      <td>5200.71</td>\n",
              "    </tr>\n",
              "    <tr>\n",
              "      <th>Populacao_total_1991</th>\n",
              "      <td>11619.01</td>\n",
              "      <td>278095.17</td>\n",
              "      <td>78698.94</td>\n",
              "    </tr>\n",
              "    <tr>\n",
              "      <th>Populacao_total_2000</th>\n",
              "      <td>12847.66</td>\n",
              "      <td>338231.50</td>\n",
              "      <td>96563.40</td>\n",
              "    </tr>\n",
              "    <tr>\n",
              "      <th>Distancia_a_capital_km</th>\n",
              "      <td>260.78</td>\n",
              "      <td>132.25</td>\n",
              "      <td>192.95</td>\n",
              "    </tr>\n",
              "    <tr>\n",
              "      <th>Esperanca_de_vida_ao_nascer_2000</th>\n",
              "      <td>67.55</td>\n",
              "      <td>70.47</td>\n",
              "      <td>69.66</td>\n",
              "    </tr>\n",
              "    <tr>\n",
              "      <th>Indice_de_Gini_2000</th>\n",
              "      <td>0.56</td>\n",
              "      <td>0.56</td>\n",
              "      <td>0.57</td>\n",
              "    </tr>\n",
              "    <tr>\n",
              "      <th>Intensidade_da_indigencia_2000</th>\n",
              "      <td>49.32</td>\n",
              "      <td>57.62</td>\n",
              "      <td>53.77</td>\n",
              "    </tr>\n",
              "    <tr>\n",
              "      <th>Intensidade_da_pobreza_2000</th>\n",
              "      <td>47.35</td>\n",
              "      <td>43.99</td>\n",
              "      <td>44.36</td>\n",
              "    </tr>\n",
              "    <tr>\n",
              "      <th>Indice_de_Desenvolvimento_Humano_Municipal_2000</th>\n",
              "      <td>0.69</td>\n",
              "      <td>0.80</td>\n",
              "      <td>0.76</td>\n",
              "    </tr>\n",
              "    <tr>\n",
              "      <th>Taxa_bruta_de_frequencia_a_escola_2000</th>\n",
              "      <td>77.52</td>\n",
              "      <td>85.53</td>\n",
              "      <td>81.74</td>\n",
              "    </tr>\n",
              "    <tr>\n",
              "      <th>Taxa_de_alfabetizacao_2000</th>\n",
              "      <td>77.36</td>\n",
              "      <td>91.92</td>\n",
              "      <td>86.07</td>\n",
              "    </tr>\n",
              "    <tr>\n",
              "      <th>razao_urbana_total_2000</th>\n",
              "      <td>0.56</td>\n",
              "      <td>0.96</td>\n",
              "      <td>0.85</td>\n",
              "    </tr>\n",
              "    <tr>\n",
              "      <th>crescimento_populacao_total_1991_2000</th>\n",
              "      <td>0.10</td>\n",
              "      <td>0.24</td>\n",
              "      <td>0.24</td>\n",
              "    </tr>\n",
              "    <tr>\n",
              "      <th>crescimento_25_mais_1991_2000</th>\n",
              "      <td>0.23</td>\n",
              "      <td>0.36</td>\n",
              "      <td>0.38</td>\n",
              "    </tr>\n",
              "    <tr>\n",
              "      <th>crescimento_65_mais_1991_2000</th>\n",
              "      <td>0.39</td>\n",
              "      <td>0.57</td>\n",
              "      <td>0.51</td>\n",
              "    </tr>\n",
              "  </tbody>\n",
              "</table>\n",
              "</div>"
            ],
            "text/plain": [
              "                                                     grupo_1    grupo_2  \\\n",
              "Area_km2                                             1460.27    1976.09   \n",
              "Densidade_demografica_2000                             36.97    1543.40   \n",
              "Mortalidade_ate_um_ano_de_idade_2000                   34.82      22.82   \n",
              "Taxa_de_fecundidade_total_2000                          2.91       2.16   \n",
              "Percentual_de_pessoas_de_25_anos_ou_mais_analfa...     27.75       9.73   \n",
              "Renda_per_Capita_2000                                 160.77     344.39   \n",
              "Media_de_anos_de_estudo_das_pessoas_de_25_anos_...      3.87       6.72   \n",
              "Populacao_de_25_anos_ou_mais_de_idade_1991           4952.72  132037.78   \n",
              "Populacao_de_25_anos_ou_mais_de_idade_2000           6109.67  175748.18   \n",
              "Populacao_de_65_anos_ou_mais_de_idade_1991            600.67   11910.57   \n",
              "Populacao_de_65_anos_ou_mais_de_idade_2000            802.68   18003.69   \n",
              "Populacao_total_1991                                11619.01  278095.17   \n",
              "Populacao_total_2000                                12847.66  338231.50   \n",
              "Distancia_a_capital_km                                260.78     132.25   \n",
              "Esperanca_de_vida_ao_nascer_2000                       67.55      70.47   \n",
              "Indice_de_Gini_2000                                     0.56       0.56   \n",
              "Intensidade_da_indigencia_2000                         49.32      57.62   \n",
              "Intensidade_da_pobreza_2000                            47.35      43.99   \n",
              "Indice_de_Desenvolvimento_Humano_Municipal_2000         0.69       0.80   \n",
              "Taxa_bruta_de_frequencia_a_escola_2000                 77.52      85.53   \n",
              "Taxa_de_alfabetizacao_2000                             77.36      91.92   \n",
              "razao_urbana_total_2000                                 0.56       0.96   \n",
              "crescimento_populacao_total_1991_2000                   0.10       0.24   \n",
              "crescimento_25_mais_1991_2000                           0.23       0.36   \n",
              "crescimento_65_mais_1991_2000                           0.39       0.57   \n",
              "\n",
              "                                                     grupo_3  \n",
              "Area_km2                                             2630.25  \n",
              "Densidade_demografica_2000                            408.41  \n",
              "Mortalidade_ate_um_ano_de_idade_2000                   27.11  \n",
              "Taxa_de_fecundidade_total_2000                          2.53  \n",
              "Percentual_de_pessoas_de_25_anos_ou_mais_analfa...     16.89  \n",
              "Renda_per_Capita_2000                                 253.37  \n",
              "Media_de_anos_de_estudo_das_pessoas_de_25_anos_...      5.49  \n",
              "Populacao_de_25_anos_ou_mais_de_idade_1991          35626.95  \n",
              "Populacao_de_25_anos_ou_mais_de_idade_2000          48133.70  \n",
              "Populacao_de_65_anos_ou_mais_de_idade_1991           3571.37  \n",
              "Populacao_de_65_anos_ou_mais_de_idade_2000           5200.71  \n",
              "Populacao_total_1991                                78698.94  \n",
              "Populacao_total_2000                                96563.40  \n",
              "Distancia_a_capital_km                                192.95  \n",
              "Esperanca_de_vida_ao_nascer_2000                       69.66  \n",
              "Indice_de_Gini_2000                                     0.57  \n",
              "Intensidade_da_indigencia_2000                         53.77  \n",
              "Intensidade_da_pobreza_2000                            44.36  \n",
              "Indice_de_Desenvolvimento_Humano_Municipal_2000         0.76  \n",
              "Taxa_bruta_de_frequencia_a_escola_2000                 81.74  \n",
              "Taxa_de_alfabetizacao_2000                             86.07  \n",
              "razao_urbana_total_2000                                 0.85  \n",
              "crescimento_populacao_total_1991_2000                   0.24  \n",
              "crescimento_25_mais_1991_2000                           0.38  \n",
              "crescimento_65_mais_1991_2000                           0.51  "
            ]
          },
          "metadata": {
            "tags": []
          },
          "execution_count": 39
        }
      ]
    },
    {
      "cell_type": "code",
      "metadata": {
        "colab": {
          "base_uri": "https://localhost:8080/"
        },
        "id": "AWeMpODu1Ajv",
        "outputId": "e12a45a4-759e-464b-c91d-2198f2b00c3a"
      },
      "source": [
        "## vamos usar principal component para visualizar os grupos da etapa 2\n",
        "\n",
        "pca= PCA(n_components=2)\n",
        "pca.fit(df_grupo_2[vars_log])\n",
        "print(pca.explained_variance_ratio_)\n",
        "df_pca= pca.fit_transform(df_grupo_2[vars_log])"
      ],
      "execution_count": 42,
      "outputs": [
        {
          "output_type": "stream",
          "text": [
            "[0.98583305 0.00746901]\n"
          ],
          "name": "stdout"
        }
      ]
    },
    {
      "cell_type": "code",
      "metadata": {
        "id": "YToXRSNgHzTl",
        "colab": {
          "base_uri": "https://localhost:8080/"
        },
        "outputId": "7d3f8837-620a-4a51-8bf0-3916ccb9f8bb"
      },
      "source": [
        "df_plot_2= pd.DataFrame( {\n",
        "    'pca_1':df_pca[:,0].tolist(), \n",
        "                        'pca_2':df_pca[:,1].tolist(),\n",
        "                        \"grupos\":df_grupo_2.grupo })\n",
        "df_plot_2.grupos.value_counts()"
      ],
      "execution_count": 44,
      "outputs": [
        {
          "output_type": "execute_result",
          "data": {
            "text/plain": [
              "0    5025\n",
              "2     385\n",
              "1      72\n",
              "Name: grupos, dtype: int64"
            ]
          },
          "metadata": {
            "tags": []
          },
          "execution_count": 44
        }
      ]
    },
    {
      "cell_type": "code",
      "metadata": {
        "colab": {
          "base_uri": "https://localhost:8080/",
          "height": 297
        },
        "id": "0PF_RNYPKXEi",
        "outputId": "96217e96-9c5a-4d78-c4e0-201feb537f4e"
      },
      "source": [
        "## visualizando\n",
        "sns.scatterplot(x=\"pca_1\",y =\"pca_2\",hue=\"grupos\",data=df_plot_2,palette=[\"C0\", \"C1\", \"k\"])\n"
      ],
      "execution_count": 46,
      "outputs": [
        {
          "output_type": "execute_result",
          "data": {
            "text/plain": [
              "<matplotlib.axes._subplots.AxesSubplot at 0x7fdb8731aa10>"
            ]
          },
          "metadata": {
            "tags": []
          },
          "execution_count": 46
        },
        {
          "output_type": "display_data",
          "data": {
            "image/png": "[encoded data removed]",
            "text/plain": [
              "<Figure size 432x288 with 1 Axes>"
            ]
          },
          "metadata": {
            "tags": [],
            "needs_background": "light"
          }
        }
      ]
    },
    {
      "cell_type": "code",
      "metadata": {
        "id": "so5Qyv6X1g7a"
      },
      "source": [
        "# fim da etapa 2"
      ],
      "execution_count": null,
      "outputs": []
    }
  ]
}