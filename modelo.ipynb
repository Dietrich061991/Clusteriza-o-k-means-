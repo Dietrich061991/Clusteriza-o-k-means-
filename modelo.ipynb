{
  "nbformat": 4,
  "nbformat_minor": 0,
  "metadata": {
    "colab": {
      "name": "modelo.ipynb",
      "provenance": [],
      "collapsed_sections": []
    },
    "kernelspec": {
      "name": "python3",
      "display_name": "Python 3"
    },
    "language_info": {
      "name": "python"
    }
  },
  "cells": [
    {
      "cell_type": "code",
      "metadata": {
        "id": "kvk92uxBFpet"
      },
      "source": [
        "import numpy as np\n",
        "#import sklearn\n",
        "import pandas as pd"
      ],
      "execution_count": 1,
      "outputs": []
    },
    {
      "cell_type": "code",
      "metadata": {
        "id": "MkIH9_06GLdD"
      },
      "source": [
        "df_grupo_1 = pd.read_csv(\"/content/capitais_1.csv\")\n",
        "df_grupo_2 = pd.read_csv(\"/content/capitais_2.csv\")\n",
        "df_grupo_3 = pd.read_csv(\"/content/capitais_3.csv\")\n"
      ],
      "execution_count": 2,
      "outputs": []
    },
    {
      "cell_type": "code",
      "metadata": {
        "id": "mFBUa15GSXuc"
      },
      "source": [
        "## criar target\n",
        "df_grupo_1.grupo= 1\n",
        "df_grupo_2.grupo =1\n",
        "df_grupo_3.grupo =0\n",
        "\n"
      ],
      "execution_count": 3,
      "outputs": []
    },
    {
      "cell_type": "code",
      "metadata": {
        "id": "yvTyCR7XEyiZ"
      },
      "source": [
        "##juntar\n",
        "\n",
        "df=pd.concat((df_grupo_1,df_grupo_2,df_grupo_3))"
      ],
      "execution_count": 4,
      "outputs": []
    },
    {
      "cell_type": "code",
      "metadata": {
        "id": "ds4WlWobHmD5",
        "colab": {
          "base_uri": "https://localhost:8080/",
          "height": 223
        },
        "outputId": "a6691190-de82-405a-cb68-bb9960adb39a"
      },
      "source": [
        "df.head(3)"
      ],
      "execution_count": 5,
      "outputs": [
        {
          "output_type": "execute_result",
          "data": {
            "text/html": [
              "<div>\n",
              "<style scoped>\n",
              "    .dataframe tbody tr th:only-of-type {\n",
              "        vertical-align: middle;\n",
              "    }\n",
              "\n",
              "    .dataframe tbody tr th {\n",
              "        vertical-align: top;\n",
              "    }\n",
              "\n",
              "    .dataframe thead th {\n",
              "        text-align: right;\n",
              "    }\n",
              "</style>\n",
              "<table border=\"1\" class=\"dataframe\">\n",
              "  <thead>\n",
              "    <tr style=\"text-align: right;\">\n",
              "      <th></th>\n",
              "      <th>Unnamed: 0</th>\n",
              "      <th>Codigo</th>\n",
              "      <th>Municipio</th>\n",
              "      <th>Area_km2</th>\n",
              "      <th>Densidade_demografica_2000</th>\n",
              "      <th>Distancia_a_capital_km</th>\n",
              "      <th>Esperanca_de_vida_ao_nascer_2000</th>\n",
              "      <th>Mortalidade_ate_um_ano_de_idade_2000</th>\n",
              "      <th>Taxa_de_fecundidade_total_2000</th>\n",
              "      <th>Percentual_de_pessoas_de_25_anos_ou_mais_analfabetas_2000</th>\n",
              "      <th>Renda_per_Capita_2000</th>\n",
              "      <th>Indice_de_Gini_2000</th>\n",
              "      <th>Intensidade_da_indigencia_2000</th>\n",
              "      <th>Intensidade_da_pobreza_2000</th>\n",
              "      <th>Indice_de_Desenvolvimento_Humano_Municipal_2000</th>\n",
              "      <th>Taxa_bruta_de_frequencia_a_escola_2000</th>\n",
              "      <th>Taxa_de_alfabetizacao_2000</th>\n",
              "      <th>Media_de_anos_de_estudo_das_pessoas_de_25_anos_ou_mais_de_idade_2000</th>\n",
              "      <th>Populacao_de_25_anos_ou_mais_de_idade_1991</th>\n",
              "      <th>Populacao_de_25_anos_ou_mais_de_idade_2000</th>\n",
              "      <th>Populacao_de_65_anos_ou_mais_de_idade_1991</th>\n",
              "      <th>Populacao_de_65_anos_ou_mais_de_idade_2000</th>\n",
              "      <th>Populacao_total_1991</th>\n",
              "      <th>Populacao_total_2000</th>\n",
              "      <th>Populacao_urbana_2000</th>\n",
              "      <th>Populacao_rural_2000</th>\n",
              "      <th>Estado</th>\n",
              "      <th>razao_urbana_total_2000</th>\n",
              "      <th>crescimento_populacao_total_1991_2000</th>\n",
              "      <th>crescimento_25_mais_1991_2000</th>\n",
              "      <th>crescimento_65_mais_1991_2000</th>\n",
              "      <th>grupo</th>\n",
              "    </tr>\n",
              "  </thead>\n",
              "  <tbody>\n",
              "    <tr>\n",
              "      <th>0</th>\n",
              "      <td>572</td>\n",
              "      <td>150140</td>\n",
              "      <td>Belém (PA)</td>\n",
              "      <td>1070.1</td>\n",
              "      <td>1196.0</td>\n",
              "      <td>0.0</td>\n",
              "      <td>70.50</td>\n",
              "      <td>26.45</td>\n",
              "      <td>1.96</td>\n",
              "      <td>5.99</td>\n",
              "      <td>313.93</td>\n",
              "      <td>0.65</td>\n",
              "      <td>49.62</td>\n",
              "      <td>43.23</td>\n",
              "      <td>0.806</td>\n",
              "      <td>88.55</td>\n",
              "      <td>94.96</td>\n",
              "      <td>7.68</td>\n",
              "      <td>466423</td>\n",
              "      <td>626407</td>\n",
              "      <td>41194</td>\n",
              "      <td>60055</td>\n",
              "      <td>1084996</td>\n",
              "      <td>1280614</td>\n",
              "      <td>1272354</td>\n",
              "      <td>8260</td>\n",
              "      <td>PA</td>\n",
              "      <td>0.993550</td>\n",
              "      <td>0.180294</td>\n",
              "      <td>0.343002</td>\n",
              "      <td>0.457858</td>\n",
              "      <td>1</td>\n",
              "    </tr>\n",
              "    <tr>\n",
              "      <th>1</th>\n",
              "      <td>584</td>\n",
              "      <td>310620</td>\n",
              "      <td>Belo Horizonte (MG)</td>\n",
              "      <td>331.9</td>\n",
              "      <td>6718.0</td>\n",
              "      <td>0.0</td>\n",
              "      <td>70.52</td>\n",
              "      <td>27.25</td>\n",
              "      <td>1.65</td>\n",
              "      <td>5.56</td>\n",
              "      <td>557.44</td>\n",
              "      <td>0.62</td>\n",
              "      <td>55.92</td>\n",
              "      <td>40.64</td>\n",
              "      <td>0.839</td>\n",
              "      <td>87.89</td>\n",
              "      <td>95.38</td>\n",
              "      <td>8.13</td>\n",
              "      <td>1020122</td>\n",
              "      <td>1241141</td>\n",
              "      <td>94792</td>\n",
              "      <td>139283</td>\n",
              "      <td>2020161</td>\n",
              "      <td>2238526</td>\n",
              "      <td>2238526</td>\n",
              "      <td>0</td>\n",
              "      <td>MG</td>\n",
              "      <td>1.000000</td>\n",
              "      <td>0.108093</td>\n",
              "      <td>0.216659</td>\n",
              "      <td>0.469354</td>\n",
              "      <td>1</td>\n",
              "    </tr>\n",
              "    <tr>\n",
              "      <th>2</th>\n",
              "      <td>742</td>\n",
              "      <td>530010</td>\n",
              "      <td>Brasília (DF)</td>\n",
              "      <td>5822.1</td>\n",
              "      <td>350.9</td>\n",
              "      <td>0.0</td>\n",
              "      <td>70.37</td>\n",
              "      <td>22.67</td>\n",
              "      <td>1.96</td>\n",
              "      <td>7.15</td>\n",
              "      <td>605.41</td>\n",
              "      <td>0.64</td>\n",
              "      <td>54.56</td>\n",
              "      <td>42.23</td>\n",
              "      <td>0.844</td>\n",
              "      <td>91.98</td>\n",
              "      <td>94.32</td>\n",
              "      <td>8.25</td>\n",
              "      <td>705359</td>\n",
              "      <td>1008846</td>\n",
              "      <td>38872</td>\n",
              "      <td>67526</td>\n",
              "      <td>1601094</td>\n",
              "      <td>2051146</td>\n",
              "      <td>1961499</td>\n",
              "      <td>89647</td>\n",
              "      <td>DF</td>\n",
              "      <td>0.956294</td>\n",
              "      <td>0.281090</td>\n",
              "      <td>0.430259</td>\n",
              "      <td>0.737137</td>\n",
              "      <td>1</td>\n",
              "    </tr>\n",
              "  </tbody>\n",
              "</table>\n",
              "</div>"
            ],
            "text/plain": [
              "   Unnamed: 0  Codigo  ... crescimento_65_mais_1991_2000  grupo\n",
              "0         572  150140  ...                      0.457858      1\n",
              "1         584  310620  ...                      0.469354      1\n",
              "2         742  530010  ...                      0.737137      1\n",
              "\n",
              "[3 rows x 32 columns]"
            ]
          },
          "metadata": {
            "tags": []
          },
          "execution_count": 5
        }
      ]
    },
    {
      "cell_type": "code",
      "metadata": {
        "id": "tooeLI5OFSMH"
      },
      "source": [
        "df.drop(columns='Unnamed: 0',inplace=True)"
      ],
      "execution_count": 6,
      "outputs": []
    },
    {
      "cell_type": "code",
      "metadata": {
        "colab": {
          "base_uri": "https://localhost:8080/",
          "height": 206
        },
        "id": "NXEFo-6tFkbp",
        "outputId": "d3255474-fb4d-4a25-94cf-d223f0edabff"
      },
      "source": [
        "df.head(3)"
      ],
      "execution_count": 7,
      "outputs": [
        {
          "output_type": "execute_result",
          "data": {
            "text/html": [
              "<div>\n",
              "<style scoped>\n",
              "    .dataframe tbody tr th:only-of-type {\n",
              "        vertical-align: middle;\n",
              "    }\n",
              "\n",
              "    .dataframe tbody tr th {\n",
              "        vertical-align: top;\n",
              "    }\n",
              "\n",
              "    .dataframe thead th {\n",
              "        text-align: right;\n",
              "    }\n",
              "</style>\n",
              "<table border=\"1\" class=\"dataframe\">\n",
              "  <thead>\n",
              "    <tr style=\"text-align: right;\">\n",
              "      <th></th>\n",
              "      <th>Codigo</th>\n",
              "      <th>Municipio</th>\n",
              "      <th>Area_km2</th>\n",
              "      <th>Densidade_demografica_2000</th>\n",
              "      <th>Distancia_a_capital_km</th>\n",
              "      <th>Esperanca_de_vida_ao_nascer_2000</th>\n",
              "      <th>Mortalidade_ate_um_ano_de_idade_2000</th>\n",
              "      <th>Taxa_de_fecundidade_total_2000</th>\n",
              "      <th>Percentual_de_pessoas_de_25_anos_ou_mais_analfabetas_2000</th>\n",
              "      <th>Renda_per_Capita_2000</th>\n",
              "      <th>Indice_de_Gini_2000</th>\n",
              "      <th>Intensidade_da_indigencia_2000</th>\n",
              "      <th>Intensidade_da_pobreza_2000</th>\n",
              "      <th>Indice_de_Desenvolvimento_Humano_Municipal_2000</th>\n",
              "      <th>Taxa_bruta_de_frequencia_a_escola_2000</th>\n",
              "      <th>Taxa_de_alfabetizacao_2000</th>\n",
              "      <th>Media_de_anos_de_estudo_das_pessoas_de_25_anos_ou_mais_de_idade_2000</th>\n",
              "      <th>Populacao_de_25_anos_ou_mais_de_idade_1991</th>\n",
              "      <th>Populacao_de_25_anos_ou_mais_de_idade_2000</th>\n",
              "      <th>Populacao_de_65_anos_ou_mais_de_idade_1991</th>\n",
              "      <th>Populacao_de_65_anos_ou_mais_de_idade_2000</th>\n",
              "      <th>Populacao_total_1991</th>\n",
              "      <th>Populacao_total_2000</th>\n",
              "      <th>Populacao_urbana_2000</th>\n",
              "      <th>Populacao_rural_2000</th>\n",
              "      <th>Estado</th>\n",
              "      <th>razao_urbana_total_2000</th>\n",
              "      <th>crescimento_populacao_total_1991_2000</th>\n",
              "      <th>crescimento_25_mais_1991_2000</th>\n",
              "      <th>crescimento_65_mais_1991_2000</th>\n",
              "      <th>grupo</th>\n",
              "    </tr>\n",
              "  </thead>\n",
              "  <tbody>\n",
              "    <tr>\n",
              "      <th>0</th>\n",
              "      <td>150140</td>\n",
              "      <td>Belém (PA)</td>\n",
              "      <td>1070.1</td>\n",
              "      <td>1196.0</td>\n",
              "      <td>0.0</td>\n",
              "      <td>70.50</td>\n",
              "      <td>26.45</td>\n",
              "      <td>1.96</td>\n",
              "      <td>5.99</td>\n",
              "      <td>313.93</td>\n",
              "      <td>0.65</td>\n",
              "      <td>49.62</td>\n",
              "      <td>43.23</td>\n",
              "      <td>0.806</td>\n",
              "      <td>88.55</td>\n",
              "      <td>94.96</td>\n",
              "      <td>7.68</td>\n",
              "      <td>466423</td>\n",
              "      <td>626407</td>\n",
              "      <td>41194</td>\n",
              "      <td>60055</td>\n",
              "      <td>1084996</td>\n",
              "      <td>1280614</td>\n",
              "      <td>1272354</td>\n",
              "      <td>8260</td>\n",
              "      <td>PA</td>\n",
              "      <td>0.993550</td>\n",
              "      <td>0.180294</td>\n",
              "      <td>0.343002</td>\n",
              "      <td>0.457858</td>\n",
              "      <td>1</td>\n",
              "    </tr>\n",
              "    <tr>\n",
              "      <th>1</th>\n",
              "      <td>310620</td>\n",
              "      <td>Belo Horizonte (MG)</td>\n",
              "      <td>331.9</td>\n",
              "      <td>6718.0</td>\n",
              "      <td>0.0</td>\n",
              "      <td>70.52</td>\n",
              "      <td>27.25</td>\n",
              "      <td>1.65</td>\n",
              "      <td>5.56</td>\n",
              "      <td>557.44</td>\n",
              "      <td>0.62</td>\n",
              "      <td>55.92</td>\n",
              "      <td>40.64</td>\n",
              "      <td>0.839</td>\n",
              "      <td>87.89</td>\n",
              "      <td>95.38</td>\n",
              "      <td>8.13</td>\n",
              "      <td>1020122</td>\n",
              "      <td>1241141</td>\n",
              "      <td>94792</td>\n",
              "      <td>139283</td>\n",
              "      <td>2020161</td>\n",
              "      <td>2238526</td>\n",
              "      <td>2238526</td>\n",
              "      <td>0</td>\n",
              "      <td>MG</td>\n",
              "      <td>1.000000</td>\n",
              "      <td>0.108093</td>\n",
              "      <td>0.216659</td>\n",
              "      <td>0.469354</td>\n",
              "      <td>1</td>\n",
              "    </tr>\n",
              "    <tr>\n",
              "      <th>2</th>\n",
              "      <td>530010</td>\n",
              "      <td>Brasília (DF)</td>\n",
              "      <td>5822.1</td>\n",
              "      <td>350.9</td>\n",
              "      <td>0.0</td>\n",
              "      <td>70.37</td>\n",
              "      <td>22.67</td>\n",
              "      <td>1.96</td>\n",
              "      <td>7.15</td>\n",
              "      <td>605.41</td>\n",
              "      <td>0.64</td>\n",
              "      <td>54.56</td>\n",
              "      <td>42.23</td>\n",
              "      <td>0.844</td>\n",
              "      <td>91.98</td>\n",
              "      <td>94.32</td>\n",
              "      <td>8.25</td>\n",
              "      <td>705359</td>\n",
              "      <td>1008846</td>\n",
              "      <td>38872</td>\n",
              "      <td>67526</td>\n",
              "      <td>1601094</td>\n",
              "      <td>2051146</td>\n",
              "      <td>1961499</td>\n",
              "      <td>89647</td>\n",
              "      <td>DF</td>\n",
              "      <td>0.956294</td>\n",
              "      <td>0.281090</td>\n",
              "      <td>0.430259</td>\n",
              "      <td>0.737137</td>\n",
              "      <td>1</td>\n",
              "    </tr>\n",
              "  </tbody>\n",
              "</table>\n",
              "</div>"
            ],
            "text/plain": [
              "   Codigo            Municipio  ...  crescimento_65_mais_1991_2000  grupo\n",
              "0  150140           Belém (PA)  ...                       0.457858      1\n",
              "1  310620  Belo Horizonte (MG)  ...                       0.469354      1\n",
              "2  530010        Brasília (DF)  ...                       0.737137      1\n",
              "\n",
              "[3 rows x 31 columns]"
            ]
          },
          "metadata": {
            "tags": []
          },
          "execution_count": 7
        }
      ]
    },
    {
      "cell_type": "code",
      "metadata": {
        "colab": {
          "base_uri": "https://localhost:8080/"
        },
        "id": "Ux6XKA_BHl6q",
        "outputId": "08ec3e41-c601-4b5d-e70c-955df9a1e4dc"
      },
      "source": [
        "\n",
        "df['grupo'].value_counts(normalize=False)\n"
      ],
      "execution_count": 8,
      "outputs": [
        {
          "output_type": "execute_result",
          "data": {
            "text/plain": [
              "0    5410\n",
              "1      97\n",
              "Name: grupo, dtype: int64"
            ]
          },
          "metadata": {
            "tags": []
          },
          "execution_count": 8
        }
      ]
    },
    {
      "cell_type": "code",
      "metadata": {
        "id": "F7USPIR2GYW2"
      },
      "source": [
        "## vamos pegar apenar 1000 unidades do grupo 0 e mantemos 97 do grupo 1\n",
        "\n",
        "df_real = pd.concat((df.loc[df.grupo==0].sample(1000),df.loc[df.grupo==1]))"
      ],
      "execution_count": 9,
      "outputs": []
    },
    {
      "cell_type": "code",
      "metadata": {
        "colab": {
          "base_uri": "https://localhost:8080/"
        },
        "id": "3kXC6uI0Hd8d",
        "outputId": "9830646f-9806-450f-8b26-858a7f4ef16e"
      },
      "source": [
        "df_real.grupo.value_counts(normalize=True)"
      ],
      "execution_count": 10,
      "outputs": [
        {
          "output_type": "execute_result",
          "data": {
            "text/plain": [
              "0    0.911577\n",
              "1    0.088423\n",
              "Name: grupo, dtype: float64"
            ]
          },
          "metadata": {
            "tags": []
          },
          "execution_count": 10
        }
      ]
    },
    {
      "cell_type": "code",
      "metadata": {
        "id": "emkgzajDHls6"
      },
      "source": [
        "vars_modelo=['Area_km2', 'Densidade_demografica_2000',\n",
        "       'Distancia_a_capital_km', 'Esperanca_de_vida_ao_nascer_2000',\n",
        "       'Mortalidade_ate_um_ano_de_idade_2000',\n",
        "       'Taxa_de_fecundidade_total_2000',\n",
        "       'Percentual_de_pessoas_de_25_anos_ou_mais_analfabetas_2000',\n",
        "       'Renda_per_Capita_2000', 'Indice_de_Gini_2000',\n",
        "       'Intensidade_da_indigencia_2000', 'Intensidade_da_pobreza_2000',\n",
        "       'Indice_de_Desenvolvimento_Humano_Municipal_2000',\n",
        "       'Taxa_bruta_de_frequencia_a_escola_2000', 'Taxa_de_alfabetizacao_2000',\n",
        "       'Media_de_anos_de_estudo_das_pessoas_de_25_anos_ou_mais_de_idade_2000',\n",
        "       'Populacao_de_25_anos_ou_mais_de_idade_1991',\n",
        "       'Populacao_de_25_anos_ou_mais_de_idade_2000',\n",
        "       'Populacao_de_65_anos_ou_mais_de_idade_1991',\n",
        "       'Populacao_de_65_anos_ou_mais_de_idade_2000', 'Populacao_total_1991',\n",
        "       'Populacao_total_2000',\n",
        "          'razao_urbana_total_2000',\n",
        "       'crescimento_populacao_total_1991_2000',\n",
        "       'crescimento_25_mais_1991_2000', 'crescimento_65_mais_1991_2000']      \n",
        "\n",
        "vars_log = ['Area_km2',\n",
        "       'Densidade_demografica_2000', 'Mortalidade_ate_um_ano_de_idade_2000','Taxa_de_fecundidade_total_2000',\n",
        "       'Percentual_de_pessoas_de_25_anos_ou_mais_analfabetas_2000',\n",
        "       'Renda_per_Capita_2000',\n",
        "       'Media_de_anos_de_estudo_das_pessoas_de_25_anos_ou_mais_de_idade_2000',\n",
        "       'Populacao_de_25_anos_ou_mais_de_idade_1991',\n",
        "       'Populacao_de_25_anos_ou_mais_de_idade_2000',\n",
        "       'Populacao_de_65_anos_ou_mais_de_idade_1991',\n",
        "       'Populacao_de_65_anos_ou_mais_de_idade_2000', 'Populacao_total_1991',\n",
        "       'Populacao_total_2000']\n",
        "   "
      ],
      "execution_count": 11,
      "outputs": []
    },
    {
      "cell_type": "code",
      "metadata": {
        "id": "lrrCIlzgNmLX"
      },
      "source": [
        "features_novas=['razao_urbana_total_2000',\n",
        "       'crescimento_populacao_total_1991_2000',\n",
        "       'crescimento_25_mais_1991_2000', 'crescimento_65_mais_1991_2000']   "
      ],
      "execution_count": 12,
      "outputs": []
    },
    {
      "cell_type": "code",
      "metadata": {
        "id": "s3-xmDSKNIRE"
      },
      "source": [
        "#Separando as variáveis em preditores X e variável resposta Y\n",
        "x = df_real[vars_modelo]\n",
        "y = df_real['grupo']"
      ],
      "execution_count": 13,
      "outputs": []
    },
    {
      "cell_type": "code",
      "metadata": {
        "colab": {
          "base_uri": "https://localhost:8080/"
        },
        "id": "LDrwhD6bMmN9",
        "outputId": "94fead9d-6d04-409e-926d-78a77530f5c8"
      },
      "source": [
        " \n",
        "for c in vars_log:\n",
        "  x[c]= np.log(x[c])\n",
        "\n",
        "## aplicar raiz quadrada na \n",
        "x.Distancia_a_capital_km = np.sqrt(x.Distancia_a_capital_km)"
      ],
      "execution_count": 14,
      "outputs": [
        {
          "output_type": "stream",
          "text": [
            "/usr/local/lib/python3.7/dist-packages/ipykernel_launcher.py:3: SettingWithCopyWarning: \n",
            "A value is trying to be set on a copy of a slice from a DataFrame.\n",
            "Try using .loc[row_indexer,col_indexer] = value instead\n",
            "\n",
            "See the caveats in the documentation: https://pandas.pydata.org/pandas-docs/stable/user_guide/indexing.html#returning-a-view-versus-a-copy\n",
            "  This is separate from the ipykernel package so we can avoid doing imports until\n",
            "/usr/local/lib/python3.7/dist-packages/pandas/core/generic.py:5170: SettingWithCopyWarning: \n",
            "A value is trying to be set on a copy of a slice from a DataFrame.\n",
            "Try using .loc[row_indexer,col_indexer] = value instead\n",
            "\n",
            "See the caveats in the documentation: https://pandas.pydata.org/pandas-docs/stable/user_guide/indexing.html#returning-a-view-versus-a-copy\n",
            "  self[name] = value\n"
          ],
          "name": "stderr"
        }
      ]
    },
    {
      "cell_type": "code",
      "metadata": {
        "id": "1jxPFs6nMxP3"
      },
      "source": [
        "vars_log.extend(['Distancia_a_capital_km' , 'Esperanca_de_vida_ao_nascer_2000', 'Indice_de_Gini_2000',\n",
        "       'Intensidade_da_indigencia_2000', 'Intensidade_da_pobreza_2000',\n",
        "       'Indice_de_Desenvolvimento_Humano_Municipal_2000',\n",
        "       'Taxa_bruta_de_frequencia_a_escola_2000', 'Taxa_de_alfabetizacao_2000'])"
      ],
      "execution_count": 15,
      "outputs": []
    },
    {
      "cell_type": "code",
      "metadata": {
        "colab": {
          "base_uri": "https://localhost:8080/"
        },
        "id": "Pc1RRcyHNIGR",
        "outputId": "fe8d5f76-3939-4b80-f172-a2599cbfa3db"
      },
      "source": [
        "vars_log"
      ],
      "execution_count": 16,
      "outputs": [
        {
          "output_type": "execute_result",
          "data": {
            "text/plain": [
              "['Area_km2',\n",
              " 'Densidade_demografica_2000',\n",
              " 'Mortalidade_ate_um_ano_de_idade_2000',\n",
              " 'Taxa_de_fecundidade_total_2000',\n",
              " 'Percentual_de_pessoas_de_25_anos_ou_mais_analfabetas_2000',\n",
              " 'Renda_per_Capita_2000',\n",
              " 'Media_de_anos_de_estudo_das_pessoas_de_25_anos_ou_mais_de_idade_2000',\n",
              " 'Populacao_de_25_anos_ou_mais_de_idade_1991',\n",
              " 'Populacao_de_25_anos_ou_mais_de_idade_2000',\n",
              " 'Populacao_de_65_anos_ou_mais_de_idade_1991',\n",
              " 'Populacao_de_65_anos_ou_mais_de_idade_2000',\n",
              " 'Populacao_total_1991',\n",
              " 'Populacao_total_2000',\n",
              " 'Distancia_a_capital_km',\n",
              " 'Esperanca_de_vida_ao_nascer_2000',\n",
              " 'Indice_de_Gini_2000',\n",
              " 'Intensidade_da_indigencia_2000',\n",
              " 'Intensidade_da_pobreza_2000',\n",
              " 'Indice_de_Desenvolvimento_Humano_Municipal_2000',\n",
              " 'Taxa_bruta_de_frequencia_a_escola_2000',\n",
              " 'Taxa_de_alfabetizacao_2000']"
            ]
          },
          "metadata": {
            "tags": []
          },
          "execution_count": 16
        }
      ]
    },
    {
      "cell_type": "code",
      "metadata": {
        "id": "4jycsgnaNb6U"
      },
      "source": [
        "#Vamos construir os modelos usando 75% da base e testando sua qualidade nos outros 25%\n",
        "from sklearn.model_selection import train_test_split ## \n",
        "x_treino, x_teste, y_treino, y_teste = train_test_split(x, y, test_size = 0.33,random_state=22)"
      ],
      "execution_count": 17,
      "outputs": []
    },
    {
      "cell_type": "code",
      "metadata": {
        "colab": {
          "base_uri": "https://localhost:8080/",
          "height": 106
        },
        "id": "Kei1D0swN4ib",
        "outputId": "74da3738-e5ea-499b-e58c-bad364da164f"
      },
      "source": [
        "##olhar distribuição dos grupos no data set real, treino e teste \n",
        "\n",
        "pd.DataFrame({'data real':y.value_counts(normalize=True),\n",
        "              'data treino':y_treino.value_counts(normalize=True),\n",
        "              'data teste':y_teste.value_counts(normalize=True)})"
      ],
      "execution_count": 18,
      "outputs": [
        {
          "output_type": "execute_result",
          "data": {
            "text/html": [
              "<div>\n",
              "<style scoped>\n",
              "    .dataframe tbody tr th:only-of-type {\n",
              "        vertical-align: middle;\n",
              "    }\n",
              "\n",
              "    .dataframe tbody tr th {\n",
              "        vertical-align: top;\n",
              "    }\n",
              "\n",
              "    .dataframe thead th {\n",
              "        text-align: right;\n",
              "    }\n",
              "</style>\n",
              "<table border=\"1\" class=\"dataframe\">\n",
              "  <thead>\n",
              "    <tr style=\"text-align: right;\">\n",
              "      <th></th>\n",
              "      <th>data real</th>\n",
              "      <th>data treino</th>\n",
              "      <th>data teste</th>\n",
              "    </tr>\n",
              "  </thead>\n",
              "  <tbody>\n",
              "    <tr>\n",
              "      <th>0</th>\n",
              "      <td>0.911577</td>\n",
              "      <td>0.910082</td>\n",
              "      <td>0.914601</td>\n",
              "    </tr>\n",
              "    <tr>\n",
              "      <th>1</th>\n",
              "      <td>0.088423</td>\n",
              "      <td>0.089918</td>\n",
              "      <td>0.085399</td>\n",
              "    </tr>\n",
              "  </tbody>\n",
              "</table>\n",
              "</div>"
            ],
            "text/plain": [
              "   data real  data treino  data teste\n",
              "0   0.911577     0.910082    0.914601\n",
              "1   0.088423     0.089918    0.085399"
            ]
          },
          "metadata": {
            "tags": []
          },
          "execution_count": 18
        }
      ]
    },
    {
      "cell_type": "code",
      "metadata": {
        "colab": {
          "base_uri": "https://localhost:8080/"
        },
        "id": "iijzt4jWMWSb",
        "outputId": "24849939-46d3-4330-b7b2-d08fee01ffb4"
      },
      "source": [
        "\n",
        "### normalizar as variaveis \n",
        "from sklearn.preprocessing import StandardScaler\n",
        "scale= StandardScaler()\n",
        "scale.fit(x_treino[vars_log])"
      ],
      "execution_count": 19,
      "outputs": [
        {
          "output_type": "execute_result",
          "data": {
            "text/plain": [
              "StandardScaler(copy=True, with_mean=True, with_std=True)"
            ]
          },
          "metadata": {
            "tags": []
          },
          "execution_count": 19
        }
      ]
    },
    {
      "cell_type": "code",
      "metadata": {
        "colab": {
          "base_uri": "https://localhost:8080/",
          "height": 290
        },
        "id": "ku4DjJWfKTwx",
        "outputId": "ed9db616-f7f4-4a10-9294-25cfce05f197"
      },
      "source": [
        "## xtreino transformado\n",
        "xtreino_tranform=pd.DataFrame(scale.fit_transform(x_treino[vars_log]))\n",
        "xtreino_tranform.columns=vars_log\n",
        "xtreino_tranform.razao_urbana_total_2000 = x_treino.razao_urbana_total_2000\n",
        "xtreino_tranform.crescimento_populacao_total_1991_2000 = x_treino.crescimento_populacao_total_1991_2000\n",
        "xtreino_tranform.crescimento_25_mais_1991_2000 = x_treino.crescimento_25_mais_1991_2000\n",
        "xtreino_tranform.crescimento_65_mais_1991_2000=x_treino.crescimento_65_mais_1991_2000\n",
        "xtreino_tranform.head(3)"
      ],
      "execution_count": 20,
      "outputs": [
        {
          "output_type": "stream",
          "text": [
            "/usr/local/lib/python3.7/dist-packages/ipykernel_launcher.py:4: UserWarning: Pandas doesn't allow columns to be created via a new attribute name - see https://pandas.pydata.org/pandas-docs/stable/indexing.html#attribute-access\n",
            "  after removing the cwd from sys.path.\n",
            "/usr/local/lib/python3.7/dist-packages/ipykernel_launcher.py:5: UserWarning: Pandas doesn't allow columns to be created via a new attribute name - see https://pandas.pydata.org/pandas-docs/stable/indexing.html#attribute-access\n",
            "  \"\"\"\n",
            "/usr/local/lib/python3.7/dist-packages/ipykernel_launcher.py:6: UserWarning: Pandas doesn't allow columns to be created via a new attribute name - see https://pandas.pydata.org/pandas-docs/stable/indexing.html#attribute-access\n",
            "  \n",
            "/usr/local/lib/python3.7/dist-packages/ipykernel_launcher.py:7: UserWarning: Pandas doesn't allow columns to be created via a new attribute name - see https://pandas.pydata.org/pandas-docs/stable/indexing.html#attribute-access\n",
            "  import sys\n"
          ],
          "name": "stderr"
        },
        {
          "output_type": "execute_result",
          "data": {
            "text/html": [
              "<div>\n",
              "<style scoped>\n",
              "    .dataframe tbody tr th:only-of-type {\n",
              "        vertical-align: middle;\n",
              "    }\n",
              "\n",
              "    .dataframe tbody tr th {\n",
              "        vertical-align: top;\n",
              "    }\n",
              "\n",
              "    .dataframe thead th {\n",
              "        text-align: right;\n",
              "    }\n",
              "</style>\n",
              "<table border=\"1\" class=\"dataframe\">\n",
              "  <thead>\n",
              "    <tr style=\"text-align: right;\">\n",
              "      <th></th>\n",
              "      <th>Area_km2</th>\n",
              "      <th>Densidade_demografica_2000</th>\n",
              "      <th>Mortalidade_ate_um_ano_de_idade_2000</th>\n",
              "      <th>Taxa_de_fecundidade_total_2000</th>\n",
              "      <th>Percentual_de_pessoas_de_25_anos_ou_mais_analfabetas_2000</th>\n",
              "      <th>Renda_per_Capita_2000</th>\n",
              "      <th>Media_de_anos_de_estudo_das_pessoas_de_25_anos_ou_mais_de_idade_2000</th>\n",
              "      <th>Populacao_de_25_anos_ou_mais_de_idade_1991</th>\n",
              "      <th>Populacao_de_25_anos_ou_mais_de_idade_2000</th>\n",
              "      <th>Populacao_de_65_anos_ou_mais_de_idade_1991</th>\n",
              "      <th>Populacao_de_65_anos_ou_mais_de_idade_2000</th>\n",
              "      <th>Populacao_total_1991</th>\n",
              "      <th>Populacao_total_2000</th>\n",
              "      <th>Distancia_a_capital_km</th>\n",
              "      <th>Esperanca_de_vida_ao_nascer_2000</th>\n",
              "      <th>Indice_de_Gini_2000</th>\n",
              "      <th>Intensidade_da_indigencia_2000</th>\n",
              "      <th>Intensidade_da_pobreza_2000</th>\n",
              "      <th>Indice_de_Desenvolvimento_Humano_Municipal_2000</th>\n",
              "      <th>Taxa_bruta_de_frequencia_a_escola_2000</th>\n",
              "      <th>Taxa_de_alfabetizacao_2000</th>\n",
              "    </tr>\n",
              "  </thead>\n",
              "  <tbody>\n",
              "    <tr>\n",
              "      <th>0</th>\n",
              "      <td>1.802882</td>\n",
              "      <td>0.335049</td>\n",
              "      <td>-0.837769</td>\n",
              "      <td>-1.795493</td>\n",
              "      <td>-1.370295</td>\n",
              "      <td>1.549247</td>\n",
              "      <td>1.500384</td>\n",
              "      <td>2.036883</td>\n",
              "      <td>2.025769</td>\n",
              "      <td>2.065338</td>\n",
              "      <td>2.090219</td>\n",
              "      <td>1.939108</td>\n",
              "      <td>1.944564</td>\n",
              "      <td>1.028536</td>\n",
              "      <td>1.282393</td>\n",
              "      <td>0.176551</td>\n",
              "      <td>0.306796</td>\n",
              "      <td>-1.080931</td>\n",
              "      <td>1.501096</td>\n",
              "      <td>1.173116</td>\n",
              "      <td>1.149658</td>\n",
              "    </tr>\n",
              "    <tr>\n",
              "      <th>1</th>\n",
              "      <td>0.452546</td>\n",
              "      <td>-0.232044</td>\n",
              "      <td>-1.843924</td>\n",
              "      <td>-0.757315</td>\n",
              "      <td>-0.415786</td>\n",
              "      <td>0.991251</td>\n",
              "      <td>1.006261</td>\n",
              "      <td>0.190390</td>\n",
              "      <td>0.189335</td>\n",
              "      <td>0.242898</td>\n",
              "      <td>0.210313</td>\n",
              "      <td>0.110198</td>\n",
              "      <td>0.117952</td>\n",
              "      <td>1.386865</td>\n",
              "      <td>1.419028</td>\n",
              "      <td>-0.005968</td>\n",
              "      <td>1.066510</td>\n",
              "      <td>-1.301204</td>\n",
              "      <td>1.183939</td>\n",
              "      <td>1.283018</td>\n",
              "      <td>0.708908</td>\n",
              "    </tr>\n",
              "    <tr>\n",
              "      <th>2</th>\n",
              "      <td>0.348171</td>\n",
              "      <td>0.032181</td>\n",
              "      <td>0.537922</td>\n",
              "      <td>0.596501</td>\n",
              "      <td>1.024024</td>\n",
              "      <td>-0.969935</td>\n",
              "      <td>-0.742236</td>\n",
              "      <td>0.116021</td>\n",
              "      <td>0.212200</td>\n",
              "      <td>0.330719</td>\n",
              "      <td>0.218070</td>\n",
              "      <td>0.258459</td>\n",
              "      <td>0.339433</td>\n",
              "      <td>-1.562322</td>\n",
              "      <td>-0.390853</td>\n",
              "      <td>-0.736046</td>\n",
              "      <td>-0.587153</td>\n",
              "      <td>0.355714</td>\n",
              "      <td>-0.801231</td>\n",
              "      <td>0.393261</td>\n",
              "      <td>-1.009459</td>\n",
              "    </tr>\n",
              "  </tbody>\n",
              "</table>\n",
              "</div>"
            ],
            "text/plain": [
              "   Area_km2  ...  Taxa_de_alfabetizacao_2000\n",
              "0  1.802882  ...                    1.149658\n",
              "1  0.452546  ...                    0.708908\n",
              "2  0.348171  ...                   -1.009459\n",
              "\n",
              "[3 rows x 21 columns]"
            ]
          },
          "metadata": {
            "tags": []
          },
          "execution_count": 20
        }
      ]
    },
    {
      "cell_type": "code",
      "metadata": {
        "colab": {
          "base_uri": "https://localhost:8080/",
          "height": 290
        },
        "id": "2si8x24TPW7U",
        "outputId": "72d550e0-f194-48c8-de89-5d853684efd9"
      },
      "source": [
        "## preparar o conjunto teste tambem \n",
        "\n",
        "xteste_transform=pd.DataFrame(scale.fit_transform(x_teste[vars_log]))\n",
        "xteste_transform.columns=vars_log\n",
        "xteste_transform.razao_urbana_total_2000 = x_teste.razao_urbana_total_2000\n",
        "xteste_transform.crescimento_populacao_total_1991_2000 = x_teste.crescimento_populacao_total_1991_2000\n",
        "xteste_transform.crescimento_25_mais_1991_2000 = x_teste.crescimento_25_mais_1991_2000\n",
        "xteste_transform.crescimento_65_mais_1991_2000=x_teste.crescimento_65_mais_1991_2000\n",
        "xteste_transform.head(3)"
      ],
      "execution_count": 21,
      "outputs": [
        {
          "output_type": "stream",
          "text": [
            "/usr/local/lib/python3.7/dist-packages/ipykernel_launcher.py:5: UserWarning: Pandas doesn't allow columns to be created via a new attribute name - see https://pandas.pydata.org/pandas-docs/stable/indexing.html#attribute-access\n",
            "  \"\"\"\n",
            "/usr/local/lib/python3.7/dist-packages/ipykernel_launcher.py:6: UserWarning: Pandas doesn't allow columns to be created via a new attribute name - see https://pandas.pydata.org/pandas-docs/stable/indexing.html#attribute-access\n",
            "  \n",
            "/usr/local/lib/python3.7/dist-packages/ipykernel_launcher.py:7: UserWarning: Pandas doesn't allow columns to be created via a new attribute name - see https://pandas.pydata.org/pandas-docs/stable/indexing.html#attribute-access\n",
            "  import sys\n",
            "/usr/local/lib/python3.7/dist-packages/ipykernel_launcher.py:8: UserWarning: Pandas doesn't allow columns to be created via a new attribute name - see https://pandas.pydata.org/pandas-docs/stable/indexing.html#attribute-access\n",
            "  \n"
          ],
          "name": "stderr"
        },
        {
          "output_type": "execute_result",
          "data": {
            "text/html": [
              "<div>\n",
              "<style scoped>\n",
              "    .dataframe tbody tr th:only-of-type {\n",
              "        vertical-align: middle;\n",
              "    }\n",
              "\n",
              "    .dataframe tbody tr th {\n",
              "        vertical-align: top;\n",
              "    }\n",
              "\n",
              "    .dataframe thead th {\n",
              "        text-align: right;\n",
              "    }\n",
              "</style>\n",
              "<table border=\"1\" class=\"dataframe\">\n",
              "  <thead>\n",
              "    <tr style=\"text-align: right;\">\n",
              "      <th></th>\n",
              "      <th>Area_km2</th>\n",
              "      <th>Densidade_demografica_2000</th>\n",
              "      <th>Mortalidade_ate_um_ano_de_idade_2000</th>\n",
              "      <th>Taxa_de_fecundidade_total_2000</th>\n",
              "      <th>Percentual_de_pessoas_de_25_anos_ou_mais_analfabetas_2000</th>\n",
              "      <th>Renda_per_Capita_2000</th>\n",
              "      <th>Media_de_anos_de_estudo_das_pessoas_de_25_anos_ou_mais_de_idade_2000</th>\n",
              "      <th>Populacao_de_25_anos_ou_mais_de_idade_1991</th>\n",
              "      <th>Populacao_de_25_anos_ou_mais_de_idade_2000</th>\n",
              "      <th>Populacao_de_65_anos_ou_mais_de_idade_1991</th>\n",
              "      <th>Populacao_de_65_anos_ou_mais_de_idade_2000</th>\n",
              "      <th>Populacao_total_1991</th>\n",
              "      <th>Populacao_total_2000</th>\n",
              "      <th>Distancia_a_capital_km</th>\n",
              "      <th>Esperanca_de_vida_ao_nascer_2000</th>\n",
              "      <th>Indice_de_Gini_2000</th>\n",
              "      <th>Intensidade_da_indigencia_2000</th>\n",
              "      <th>Intensidade_da_pobreza_2000</th>\n",
              "      <th>Indice_de_Desenvolvimento_Humano_Municipal_2000</th>\n",
              "      <th>Taxa_bruta_de_frequencia_a_escola_2000</th>\n",
              "      <th>Taxa_de_alfabetizacao_2000</th>\n",
              "    </tr>\n",
              "  </thead>\n",
              "  <tbody>\n",
              "    <tr>\n",
              "      <th>0</th>\n",
              "      <td>-0.271796</td>\n",
              "      <td>-0.353313</td>\n",
              "      <td>-0.095035</td>\n",
              "      <td>-0.328736</td>\n",
              "      <td>-0.500603</td>\n",
              "      <td>0.644220</td>\n",
              "      <td>0.353428</td>\n",
              "      <td>-0.717583</td>\n",
              "      <td>-0.571795</td>\n",
              "      <td>-1.064174</td>\n",
              "      <td>-0.934286</td>\n",
              "      <td>-0.781512</td>\n",
              "      <td>-0.620022</td>\n",
              "      <td>0.941363</td>\n",
              "      <td>0.542870</td>\n",
              "      <td>-0.485147</td>\n",
              "      <td>-1.299822</td>\n",
              "      <td>-1.634149</td>\n",
              "      <td>0.609829</td>\n",
              "      <td>-0.391506</td>\n",
              "      <td>0.657563</td>\n",
              "    </tr>\n",
              "    <tr>\n",
              "      <th>1</th>\n",
              "      <td>-0.199735</td>\n",
              "      <td>0.115938</td>\n",
              "      <td>-0.606182</td>\n",
              "      <td>0.385702</td>\n",
              "      <td>-0.650809</td>\n",
              "      <td>0.407810</td>\n",
              "      <td>0.519125</td>\n",
              "      <td>0.065728</td>\n",
              "      <td>-0.005531</td>\n",
              "      <td>-0.146036</td>\n",
              "      <td>-0.108182</td>\n",
              "      <td>0.057533</td>\n",
              "      <td>-0.042060</td>\n",
              "      <td>0.964164</td>\n",
              "      <td>0.245908</td>\n",
              "      <td>-0.322535</td>\n",
              "      <td>-0.754455</td>\n",
              "      <td>0.254824</td>\n",
              "      <td>0.550379</td>\n",
              "      <td>0.925617</td>\n",
              "      <td>0.707989</td>\n",
              "    </tr>\n",
              "    <tr>\n",
              "      <th>2</th>\n",
              "      <td>-1.013762</td>\n",
              "      <td>-0.145870</td>\n",
              "      <td>0.468615</td>\n",
              "      <td>-0.580433</td>\n",
              "      <td>-0.016919</td>\n",
              "      <td>-0.868543</td>\n",
              "      <td>-0.554654</td>\n",
              "      <td>-1.000848</td>\n",
              "      <td>-1.047631</td>\n",
              "      <td>-0.889029</td>\n",
              "      <td>-0.994504</td>\n",
              "      <td>-0.981735</td>\n",
              "      <td>-1.022954</td>\n",
              "      <td>-0.641021</td>\n",
              "      <td>-0.093477</td>\n",
              "      <td>-0.322535</td>\n",
              "      <td>-0.175735</td>\n",
              "      <td>0.458937</td>\n",
              "      <td>-0.400821</td>\n",
              "      <td>-1.332906</td>\n",
              "      <td>0.302953</td>\n",
              "    </tr>\n",
              "  </tbody>\n",
              "</table>\n",
              "</div>"
            ],
            "text/plain": [
              "   Area_km2  ...  Taxa_de_alfabetizacao_2000\n",
              "0 -0.271796  ...                    0.657563\n",
              "1 -0.199735  ...                    0.707989\n",
              "2 -1.013762  ...                    0.302953\n",
              "\n",
              "[3 rows x 21 columns]"
            ]
          },
          "metadata": {
            "tags": []
          },
          "execution_count": 21
        }
      ]
    },
    {
      "cell_type": "code",
      "metadata": {
        "id": "0_OMdVabS5vU"
      },
      "source": [
        " import matplotlib.pyplot as plt \n",
        " from sklearn.metrics import plot_confusion_matrix"
      ],
      "execution_count": 22,
      "outputs": []
    },
    {
      "cell_type": "markdown",
      "metadata": {
        "id": "HopNDNHmOzLm"
      },
      "source": [
        "Modelos a serem testados"
      ]
    },
    {
      "cell_type": "markdown",
      "metadata": {
        "id": "gJxOHttFO-lD"
      },
      "source": [
        "\n",
        "\n",
        "1. Naive Bayes\n",
        "2. logistic regression\n",
        "6. Linear discirminant analysis\n",
        "\n",
        "8. Random forest classification\n",
        "9. xgboost classification\n",
        "3. Decison tree\n",
        "4. knn classification\n"
      ]
    },
    {
      "cell_type": "code",
      "metadata": {
        "id": "Ji9FGMhjPAqm",
        "colab": {
          "base_uri": "https://localhost:8080/",
          "height": 295
        },
        "outputId": "6a04350f-f789-42e8-d7a7-8002984b2efa"
      },
      "source": [
        "# logistic regression\n",
        "from sklearn.linear_model import LogisticRegression\n",
        "lg = LogisticRegression(solver='lbfgs')\n",
        "lg.fit(xtreino_tranform,y_treino)\n",
        "y_pred_lg = lg.predict(xteste_transform) \n",
        "lg.predict_proba(xteste_transform)[:3]\n",
        "plot_confusion_matrix(lg,xteste_transform,y_teste,values_format='')\n",
        "plt.ylabel('real')\n",
        "plt.xlabel('predito')\n",
        "plt.title('modelo logistico')\n",
        "plt.show()"
      ],
      "execution_count": 23,
      "outputs": [
        {
          "output_type": "display_data",
          "data": {
            "image/png": "[encoded data removed]",
            "text/plain": [
              "<Figure size 432x288 with 2 Axes>"
            ]
          },
          "metadata": {
            "tags": [],
            "needs_background": "light"
          }
        }
      ]
    },
    {
      "cell_type": "code",
      "metadata": {
        "colab": {
          "base_uri": "https://localhost:8080/",
          "height": 295
        },
        "id": "xtqUA4lYR0s6",
        "outputId": "5804b8e0-18cc-4c1f-aba0-02dbb85b9990"
      },
      "source": [
        "\n",
        "# Naive Bayes\n",
        "from sklearn.naive_bayes import GaussianNB\n",
        "gnb = GaussianNB()\n",
        "gnb.fit(xtreino_tranform, y_treino)\n",
        "y_pred_gnb = gnb.predict(xteste_transform)\n",
        "gnb.predict_proba(xteste_transform)\n",
        "plot_confusion_matrix(gnb,xteste_transform,y_teste,values_format='')\n",
        "plt.ylabel('real')\n",
        "plt.xlabel('predito')\n",
        "plt.title('Naive Bayes')\n",
        "plt.show()"
      ],
      "execution_count": 24,
      "outputs": [
        {
          "output_type": "display_data",
          "data": {
            "image/png": "[encoded data removed]",
            "text/plain": [
              "<Figure size 432x288 with 2 Axes>"
            ]
          },
          "metadata": {
            "tags": [],
            "needs_background": "light"
          }
        }
      ]
    },
    {
      "cell_type": "code",
      "metadata": {
        "colab": {
          "base_uri": "https://localhost:8080/",
          "height": 295
        },
        "id": "Y19myYo0R2cJ",
        "outputId": "e8133dab-74a3-498f-a98f-37299852b44e"
      },
      "source": [
        "\n",
        "\n",
        "# Linear Discriminan Analysis\n",
        "from sklearn.discriminant_analysis import LinearDiscriminantAnalysis\n",
        "lda = LinearDiscriminantAnalysis()\n",
        "lda.fit(xtreino_tranform, y_treino)\n",
        "LinearDiscriminant_Analysis = lda.score(xteste_transform,y_teste)  \n",
        "y_pred_lda = lda.predict(xteste_transform) \n",
        "lda.predict_proba(xteste_transform)\n",
        "plot_confusion_matrix(lda,xteste_transform,y_teste,values_format='')\n",
        "plt.ylabel('real')\n",
        "plt.xlabel('predito')\n",
        "plt.title('Analise linear discriminante')\n",
        "plt.show()"
      ],
      "execution_count": 25,
      "outputs": [
        {
          "output_type": "display_data",
          "data": {
            "image/png": "[encoded data removed]",
            "text/plain": [
              "<Figure size 432x288 with 2 Axes>"
            ]
          },
          "metadata": {
            "tags": [],
            "needs_background": "light"
          }
        }
      ]
    },
    {
      "cell_type": "code",
      "metadata": {
        "id": "UCuB-L0lPipL",
        "colab": {
          "base_uri": "https://localhost:8080/",
          "height": 295
        },
        "outputId": "a67f5746-298d-4c70-dec5-34af0190c766"
      },
      "source": [
        "# Decison tree\n",
        "from sklearn.tree import DecisionTreeClassifier\n",
        "dtc = DecisionTreeClassifier()\n",
        "dtc.fit(xtreino_tranform,y_treino)\n",
        "dtc.fit(xtreino_tranform, y_treino)\n",
        "y_pred_Dtc = dtc.predict(xteste_transform) \n",
        "plot_confusion_matrix(dtc,xteste_transform,y_teste,values_format='')\n",
        "plt.ylabel('real')\n",
        "plt.xlabel('predito')\n",
        "plt.title('Árvore de decisão')\n",
        "plt.show()"
      ],
      "execution_count": 26,
      "outputs": [
        {
          "output_type": "display_data",
          "data": {
            "image/png": "[encoded data removed]",
            "text/plain": [
              "<Figure size 432x288 with 2 Axes>"
            ]
          },
          "metadata": {
            "tags": [],
            "needs_background": "light"
          }
        }
      ]
    },
    {
      "cell_type": "code",
      "metadata": {
        "id": "Xyla4PnJPnA9",
        "colab": {
          "base_uri": "https://localhost:8080/",
          "height": 295
        },
        "outputId": "f7d5d5d3-2a7a-43ff-ec48-a7066da86a49"
      },
      "source": [
        "# KNeighborsClassifier\n",
        "from sklearn.neighbors import KNeighborsClassifier\n",
        "knc = KNeighborsClassifier(n_neighbors=6)\n",
        "knc.fit(xtreino_tranform,y_treino) \n",
        "y_pred_knc = knc.predict(xteste_transform)\n",
        "plot_confusion_matrix(knc,xteste_transform,y_teste,values_format='')\n",
        "plt.ylabel('real')\n",
        "plt.xlabel('predito')\n",
        "plt.title('Vizinhos mais próximos')\n",
        "plt.show()"
      ],
      "execution_count": 27,
      "outputs": [
        {
          "output_type": "display_data",
          "data": {
            "image/png": "[encoded data removed]",
            "text/plain": [
              "<Figure size 432x288 with 2 Axes>"
            ]
          },
          "metadata": {
            "tags": [],
            "needs_background": "light"
          }
        }
      ]
    },
    {
      "cell_type": "code",
      "metadata": {
        "id": "D-AIOvv0P2Lk",
        "colab": {
          "base_uri": "https://localhost:8080/",
          "height": 295
        },
        "outputId": "fe7dd6dc-c01f-45b3-b30b-2331d12ca5c6"
      },
      "source": [
        "# Random forest classification\n",
        "from sklearn.ensemble import RandomForestClassifier\n",
        "clf = RandomForestClassifier(max_depth=5, random_state=0)\n",
        "clf.fit(xtreino_tranform,y_treino)\n",
        "Random_Forest_Classifier = clf.score(xteste_transform,y_teste) \n",
        "y_pred_RFC = clf.predict(xteste_transform)\n",
        "plot_confusion_matrix(clf,xteste_transform,y_teste,values_format='')\n",
        "plt.ylabel('real')\n",
        "plt.xlabel('predito')\n",
        "plt.title('Floresta aleatória')\n",
        "plt.show()"
      ],
      "execution_count": 28,
      "outputs": [
        {
          "output_type": "display_data",
          "data": {
            "image/png": "[encoded data removed]",
            "text/plain": [
              "<Figure size 432x288 with 2 Axes>"
            ]
          },
          "metadata": {
            "tags": [],
            "needs_background": "light"
          }
        }
      ]
    },
    {
      "cell_type": "code",
      "metadata": {
        "id": "UCdFwQ8KHRqC",
        "colab": {
          "base_uri": "https://localhost:8080/",
          "height": 295
        },
        "outputId": "94ca75bb-e715-4334-94ff-86fbc1b3e879"
      },
      "source": [
        "# xgboost classification\n",
        "from xgboost.sklearn import XGBClassifier\n",
        "xgbr= XGBClassifier()\n",
        "xgbr.fit(xtreino_tranform, y_treino)\n",
        "XGB_Classifier= xgbr.score(xteste_transform,y_teste) \n",
        "y_pred_xgb = xgbr.predict(xteste_transform) \n",
        "plot_confusion_matrix(xgbr,xteste_transform,y_teste,values_format='')\n",
        "plt.ylabel('real')\n",
        "plt.xlabel('predito')\n",
        "plt.title('Gradiente Boosting')\n",
        "plt.show()"
      ],
      "execution_count": 29,
      "outputs": [
        {
          "output_type": "display_data",
          "data": {
            "image/png": "[encoded data removed]",
            "text/plain": [
              "<Figure size 432x288 with 2 Axes>"
            ]
          },
          "metadata": {
            "tags": [],
            "needs_background": "light"
          }
        }
      ]
    },
    {
      "cell_type": "markdown",
      "metadata": {
        "id": "nE5e9OC1QIJj"
      },
      "source": [
        "Hora de ver as performances"
      ]
    },
    {
      "cell_type": "code",
      "metadata": {
        "colab": {
          "base_uri": "https://localhost:8080/",
          "height": 254
        },
        "id": "cuv5B6QDQJSF",
        "outputId": "273ac51f-3c4b-44e4-e91f-b855c39a1a08"
      },
      "source": [
        "from sklearn.metrics import accuracy_score, f1_score, precision_score, recall_score, classification_report, confusion_matrix\n",
        "\n",
        "\n",
        "df =  { 'Accuracy': [accuracy_score(y_teste, y_pred_gnb),\n",
        "                        accuracy_score(y_teste, y_pred_lg),\n",
        "                        accuracy_score(y_teste, y_pred_RFC),\n",
        "                        accuracy_score(y_teste, y_pred_xgb),\n",
        "                        accuracy_score(y_teste, y_pred_Dtc),\n",
        "                        accuracy_score(y_teste, y_pred_knc),\n",
        "                       # accuracy_score(y_teste, y_pred_lsvc),\n",
        "                        accuracy_score(y_teste, y_pred_lda)],\n",
        "                     #   accuracy_score(y_teste, y_pred_qda)],\n",
        "       \n",
        "    'precision_score': [precision_score(y_teste, y_pred_gnb, average=\"macro\"),\n",
        "                        precision_score(y_teste, y_pred_lg, average=\"macro\"),\n",
        "                        precision_score(y_teste, y_pred_RFC, average=\"macro\"),\n",
        "                        precision_score(y_teste, y_pred_xgb, average=\"macro\"),\n",
        "                        precision_score(y_teste, y_pred_Dtc, average=\"macro\"),\n",
        "                        precision_score(y_teste, y_pred_knc, average=\"macro\"),\n",
        "                      #  precision_score(y_teste, y_pred_lsvc, average=\"macro\"),\n",
        "                        precision_score(y_teste, y_pred_lda, average=\"macro\")],\n",
        "                     #   precision_score(y_teste, y_pred_qda, average=\"macro\")],\n",
        "\n",
        "           'f1_score':  [f1_score(y_teste, y_pred_gnb, average=\"macro\"),\n",
        "                        f1_score(y_teste, y_pred_lg, average=\"macro\"),\n",
        "                        f1_score(y_teste, y_pred_RFC, average=\"macro\"),\n",
        "                        f1_score(y_teste, y_pred_xgb, average=\"macro\"),\n",
        "                        f1_score(y_teste, y_pred_Dtc, average=\"macro\"),\n",
        "                        f1_score(y_teste, y_pred_knc, average=\"macro\"),\n",
        "                     #   f1_score(y_teste, y_pred_lsvc, average=\"macro\"),\n",
        "                        f1_score(y_teste, y_pred_lda, average=\"macro\")],\n",
        "                     #   f1_score(y_teste, y_pred_qda, average=\"macro\")],\n",
        "       \n",
        "       'recall_score':  [recall_score(y_teste, y_pred_gnb, average=\"macro\"),\n",
        "                        recall_score(y_teste, y_pred_lg, average=\"macro\"),\n",
        "                        recall_score(y_teste, y_pred_RFC, average=\"macro\"),\n",
        "                        recall_score(y_teste, y_pred_xgb, average=\"macro\"),\n",
        "                        recall_score(y_teste, y_pred_Dtc, average=\"macro\"),\n",
        "                        recall_score(y_teste, y_pred_knc, average=\"macro\"),\n",
        "                     #   recall_score(y_teste, y_pred_lsvc, average=\"macro\"),\n",
        "                        recall_score(y_teste, y_pred_lda, average=\"macro\")]\n",
        "                    #    recall_score(y_teste, y_pred_qda, average=\"macro\")]\n",
        "  \n",
        "                        }\n",
        "performance= pd.DataFrame(df)\n",
        "performance.index= ['GaussianNB','Logistic_Regression','Random_Forest_Classifier','XGB_Classifier','DecisionTree_Classifier', 'KNeighbors_Classifier', 'LinearDiscriminant_Analysis']\n",
        "performance"
      ],
      "execution_count": 30,
      "outputs": [
        {
          "output_type": "execute_result",
          "data": {
            "text/html": [
              "<div>\n",
              "<style scoped>\n",
              "    .dataframe tbody tr th:only-of-type {\n",
              "        vertical-align: middle;\n",
              "    }\n",
              "\n",
              "    .dataframe tbody tr th {\n",
              "        vertical-align: top;\n",
              "    }\n",
              "\n",
              "    .dataframe thead th {\n",
              "        text-align: right;\n",
              "    }\n",
              "</style>\n",
              "<table border=\"1\" class=\"dataframe\">\n",
              "  <thead>\n",
              "    <tr style=\"text-align: right;\">\n",
              "      <th></th>\n",
              "      <th>Accuracy</th>\n",
              "      <th>precision_score</th>\n",
              "      <th>f1_score</th>\n",
              "      <th>recall_score</th>\n",
              "    </tr>\n",
              "  </thead>\n",
              "  <tbody>\n",
              "    <tr>\n",
              "      <th>GaussianNB</th>\n",
              "      <td>0.969697</td>\n",
              "      <td>0.869048</td>\n",
              "      <td>0.916235</td>\n",
              "      <td>0.983434</td>\n",
              "    </tr>\n",
              "    <tr>\n",
              "      <th>Logistic_Regression</th>\n",
              "      <td>0.997245</td>\n",
              "      <td>0.984375</td>\n",
              "      <td>0.991309</td>\n",
              "      <td>0.998494</td>\n",
              "    </tr>\n",
              "    <tr>\n",
              "      <th>Random_Forest_Classifier</th>\n",
              "      <td>0.997245</td>\n",
              "      <td>0.984375</td>\n",
              "      <td>0.991309</td>\n",
              "      <td>0.998494</td>\n",
              "    </tr>\n",
              "    <tr>\n",
              "      <th>XGB_Classifier</th>\n",
              "      <td>0.997245</td>\n",
              "      <td>0.984375</td>\n",
              "      <td>0.991309</td>\n",
              "      <td>0.998494</td>\n",
              "    </tr>\n",
              "    <tr>\n",
              "      <th>DecisionTree_Classifier</th>\n",
              "      <td>0.997245</td>\n",
              "      <td>0.984375</td>\n",
              "      <td>0.991309</td>\n",
              "      <td>0.998494</td>\n",
              "    </tr>\n",
              "    <tr>\n",
              "      <th>KNeighbors_Classifier</th>\n",
              "      <td>0.991736</td>\n",
              "      <td>0.955882</td>\n",
              "      <td>0.974654</td>\n",
              "      <td>0.995482</td>\n",
              "    </tr>\n",
              "    <tr>\n",
              "      <th>LinearDiscriminant_Analysis</th>\n",
              "      <td>0.977961</td>\n",
              "      <td>0.897436</td>\n",
              "      <td>0.936760</td>\n",
              "      <td>0.987952</td>\n",
              "    </tr>\n",
              "  </tbody>\n",
              "</table>\n",
              "</div>"
            ],
            "text/plain": [
              "                             Accuracy  precision_score  f1_score  recall_score\n",
              "GaussianNB                   0.969697         0.869048  0.916235      0.983434\n",
              "Logistic_Regression          0.997245         0.984375  0.991309      0.998494\n",
              "Random_Forest_Classifier     0.997245         0.984375  0.991309      0.998494\n",
              "XGB_Classifier               0.997245         0.984375  0.991309      0.998494\n",
              "DecisionTree_Classifier      0.997245         0.984375  0.991309      0.998494\n",
              "KNeighbors_Classifier        0.991736         0.955882  0.974654      0.995482\n",
              "LinearDiscriminant_Analysis  0.977961         0.897436  0.936760      0.987952"
            ]
          },
          "metadata": {
            "tags": []
          },
          "execution_count": 30
        }
      ]
    },
    {
      "cell_type": "code",
      "metadata": {
        "id": "yPlAVH51SGCl"
      },
      "source": [
        ""
      ],
      "execution_count": 30,
      "outputs": []
    }
  ]
}